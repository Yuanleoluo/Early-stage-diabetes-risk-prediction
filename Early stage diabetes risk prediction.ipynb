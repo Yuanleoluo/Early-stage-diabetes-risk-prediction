{
 "cells": [
  {
   "cell_type": "markdown",
   "metadata": {},
   "source": [
    "# Early stage diabetes risk prediction"
   ]
  },
  {
   "cell_type": "markdown",
   "metadata": {},
   "source": [
    "1. Introduction\n",
    "2. Data\n",
    "3. EDA\n",
    "4. Data Engineering/cleaning\n",
    "5. Model Building\n",
    "6. Test"
   ]
  },
  {
   "cell_type": "markdown",
   "metadata": {},
   "source": [
    "<h1>1. Introduction"
   ]
  },
  {
   "cell_type": "markdown",
   "metadata": {},
   "source": [
    "Would it be nice if we can find the early signs of diabetes? One of the promising application of machine learning can deliver just that. While this concept is nothing new and is probably already widely used in many medical fields, it could be very helpful for begging data scientists to see the work flow with different datasets and style. Let's get to it."
   ]
  },
  {
   "cell_type": "markdown",
   "metadata": {},
   "source": [
    "<h1>2. Data"
   ]
  },
  {
   "cell_type": "markdown",
   "metadata": {},
   "source": [
    "I acquire the data from University of California Irvine(https://archive.ics.uci.edu/ml/index.php) already in CSV format. Its size is relatively very small, 520 instances(rows) with 17 attributes(columns). The data was donated to UCI fairly recently on July 12th, 2020. Although metadata wrote that the data consists of missing values, I did not find any as you will see later."
   ]
  },
  {
   "cell_type": "code",
   "execution_count": 1,
   "metadata": {},
   "outputs": [],
   "source": [
    "import pandas as pd\n",
    "import numpy as np\n",
    "import seaborn as sns\n",
    "import matplotlib.pyplot as plt"
   ]
  },
  {
   "cell_type": "code",
   "execution_count": 27,
   "metadata": {},
   "outputs": [],
   "source": [
    "df = pd.read_csv('../diabetes_data.csv')"
   ]
  },
  {
   "cell_type": "markdown",
   "metadata": {},
   "source": [
    "<h1> 3. EDA"
   ]
  },
  {
   "cell_type": "code",
   "execution_count": 3,
   "metadata": {},
   "outputs": [
    {
     "data": {
      "text/html": [
       "<div>\n",
       "<style scoped>\n",
       "    .dataframe tbody tr th:only-of-type {\n",
       "        vertical-align: middle;\n",
       "    }\n",
       "\n",
       "    .dataframe tbody tr th {\n",
       "        vertical-align: top;\n",
       "    }\n",
       "\n",
       "    .dataframe thead th {\n",
       "        text-align: right;\n",
       "    }\n",
       "</style>\n",
       "<table border=\"1\" class=\"dataframe\">\n",
       "  <thead>\n",
       "    <tr style=\"text-align: right;\">\n",
       "      <th></th>\n",
       "      <th>Age</th>\n",
       "      <th>Gender</th>\n",
       "      <th>Polyuria</th>\n",
       "      <th>Polydipsia</th>\n",
       "      <th>sudden weight loss</th>\n",
       "      <th>weakness</th>\n",
       "      <th>Polyphagia</th>\n",
       "      <th>Genital thrush</th>\n",
       "      <th>visual blurring</th>\n",
       "      <th>Itching</th>\n",
       "      <th>Irritability</th>\n",
       "      <th>delayed healing</th>\n",
       "      <th>partial paresis</th>\n",
       "      <th>muscle stiffness</th>\n",
       "      <th>Alopecia</th>\n",
       "      <th>Obesity</th>\n",
       "      <th>class</th>\n",
       "    </tr>\n",
       "  </thead>\n",
       "  <tbody>\n",
       "    <tr>\n",
       "      <th>0</th>\n",
       "      <td>40</td>\n",
       "      <td>Male</td>\n",
       "      <td>No</td>\n",
       "      <td>Yes</td>\n",
       "      <td>No</td>\n",
       "      <td>Yes</td>\n",
       "      <td>No</td>\n",
       "      <td>No</td>\n",
       "      <td>No</td>\n",
       "      <td>Yes</td>\n",
       "      <td>No</td>\n",
       "      <td>Yes</td>\n",
       "      <td>No</td>\n",
       "      <td>Yes</td>\n",
       "      <td>Yes</td>\n",
       "      <td>Yes</td>\n",
       "      <td>Positive</td>\n",
       "    </tr>\n",
       "    <tr>\n",
       "      <th>1</th>\n",
       "      <td>58</td>\n",
       "      <td>Male</td>\n",
       "      <td>No</td>\n",
       "      <td>No</td>\n",
       "      <td>No</td>\n",
       "      <td>Yes</td>\n",
       "      <td>No</td>\n",
       "      <td>No</td>\n",
       "      <td>Yes</td>\n",
       "      <td>No</td>\n",
       "      <td>No</td>\n",
       "      <td>No</td>\n",
       "      <td>Yes</td>\n",
       "      <td>No</td>\n",
       "      <td>Yes</td>\n",
       "      <td>No</td>\n",
       "      <td>Positive</td>\n",
       "    </tr>\n",
       "    <tr>\n",
       "      <th>2</th>\n",
       "      <td>41</td>\n",
       "      <td>Male</td>\n",
       "      <td>Yes</td>\n",
       "      <td>No</td>\n",
       "      <td>No</td>\n",
       "      <td>Yes</td>\n",
       "      <td>Yes</td>\n",
       "      <td>No</td>\n",
       "      <td>No</td>\n",
       "      <td>Yes</td>\n",
       "      <td>No</td>\n",
       "      <td>Yes</td>\n",
       "      <td>No</td>\n",
       "      <td>Yes</td>\n",
       "      <td>Yes</td>\n",
       "      <td>No</td>\n",
       "      <td>Positive</td>\n",
       "    </tr>\n",
       "    <tr>\n",
       "      <th>3</th>\n",
       "      <td>45</td>\n",
       "      <td>Male</td>\n",
       "      <td>No</td>\n",
       "      <td>No</td>\n",
       "      <td>Yes</td>\n",
       "      <td>Yes</td>\n",
       "      <td>Yes</td>\n",
       "      <td>Yes</td>\n",
       "      <td>No</td>\n",
       "      <td>Yes</td>\n",
       "      <td>No</td>\n",
       "      <td>Yes</td>\n",
       "      <td>No</td>\n",
       "      <td>No</td>\n",
       "      <td>No</td>\n",
       "      <td>No</td>\n",
       "      <td>Positive</td>\n",
       "    </tr>\n",
       "    <tr>\n",
       "      <th>4</th>\n",
       "      <td>60</td>\n",
       "      <td>Male</td>\n",
       "      <td>Yes</td>\n",
       "      <td>Yes</td>\n",
       "      <td>Yes</td>\n",
       "      <td>Yes</td>\n",
       "      <td>Yes</td>\n",
       "      <td>No</td>\n",
       "      <td>Yes</td>\n",
       "      <td>Yes</td>\n",
       "      <td>Yes</td>\n",
       "      <td>Yes</td>\n",
       "      <td>Yes</td>\n",
       "      <td>Yes</td>\n",
       "      <td>Yes</td>\n",
       "      <td>Yes</td>\n",
       "      <td>Positive</td>\n",
       "    </tr>\n",
       "  </tbody>\n",
       "</table>\n",
       "</div>"
      ],
      "text/plain": [
       "   Age Gender Polyuria Polydipsia sudden weight loss weakness Polyphagia  \\\n",
       "0   40   Male       No        Yes                 No      Yes         No   \n",
       "1   58   Male       No         No                 No      Yes         No   \n",
       "2   41   Male      Yes         No                 No      Yes        Yes   \n",
       "3   45   Male       No         No                Yes      Yes        Yes   \n",
       "4   60   Male      Yes        Yes                Yes      Yes        Yes   \n",
       "\n",
       "  Genital thrush visual blurring Itching Irritability delayed healing  \\\n",
       "0             No              No     Yes           No             Yes   \n",
       "1             No             Yes      No           No              No   \n",
       "2             No              No     Yes           No             Yes   \n",
       "3            Yes              No     Yes           No             Yes   \n",
       "4             No             Yes     Yes          Yes             Yes   \n",
       "\n",
       "  partial paresis muscle stiffness Alopecia Obesity     class  \n",
       "0              No              Yes      Yes     Yes  Positive  \n",
       "1             Yes               No      Yes      No  Positive  \n",
       "2              No              Yes      Yes      No  Positive  \n",
       "3              No               No       No      No  Positive  \n",
       "4             Yes              Yes      Yes     Yes  Positive  "
      ]
     },
     "execution_count": 3,
     "metadata": {},
     "output_type": "execute_result"
    }
   ],
   "source": [
    "df.head()"
   ]
  },
  {
   "cell_type": "code",
   "execution_count": 6,
   "metadata": {},
   "outputs": [
    {
     "data": {
      "text/plain": [
       "(520, 17)"
      ]
     },
     "execution_count": 6,
     "metadata": {},
     "output_type": "execute_result"
    }
   ],
   "source": [
    "df.shape"
   ]
  },
  {
   "cell_type": "code",
   "execution_count": 6,
   "metadata": {},
   "outputs": [
    {
     "name": "stdout",
     "output_type": "stream",
     "text": [
      "<class 'pandas.core.frame.DataFrame'>\n",
      "RangeIndex: 520 entries, 0 to 519\n",
      "Data columns (total 17 columns):\n",
      " #   Column              Non-Null Count  Dtype \n",
      "---  ------              --------------  ----- \n",
      " 0   Age                 520 non-null    int64 \n",
      " 1   Gender              520 non-null    object\n",
      " 2   Polyuria            520 non-null    object\n",
      " 3   Polydipsia          520 non-null    object\n",
      " 4   sudden weight loss  520 non-null    object\n",
      " 5   weakness            520 non-null    object\n",
      " 6   Polyphagia          520 non-null    object\n",
      " 7   Genital thrush      520 non-null    object\n",
      " 8   visual blurring     520 non-null    object\n",
      " 9   Itching             520 non-null    object\n",
      " 10  Irritability        520 non-null    object\n",
      " 11  delayed healing     520 non-null    object\n",
      " 12  partial paresis     520 non-null    object\n",
      " 13  muscle stiffness    520 non-null    object\n",
      " 14  Alopecia            520 non-null    object\n",
      " 15  Obesity             520 non-null    object\n",
      " 16  class               520 non-null    object\n",
      "dtypes: int64(1), object(16)\n",
      "memory usage: 69.2+ KB\n"
     ]
    }
   ],
   "source": [
    "# missing values and datatype\n",
    "df.info()"
   ]
  },
  {
   "cell_type": "code",
   "execution_count": 8,
   "metadata": {},
   "outputs": [
    {
     "data": {
      "text/plain": [
       "Age                   0\n",
       "Gender                0\n",
       "Polyuria              0\n",
       "Polydipsia            0\n",
       "sudden weight loss    0\n",
       "weakness              0\n",
       "Polyphagia            0\n",
       "Genital thrush        0\n",
       "visual blurring       0\n",
       "Itching               0\n",
       "Irritability          0\n",
       "delayed healing       0\n",
       "partial paresis       0\n",
       "muscle stiffness      0\n",
       "Alopecia              0\n",
       "Obesity               0\n",
       "class                 0\n",
       "dtype: int64"
      ]
     },
     "execution_count": 8,
     "metadata": {},
     "output_type": "execute_result"
    }
   ],
   "source": [
    "df.isnull().sum()"
   ]
  },
  {
   "cell_type": "code",
   "execution_count": 4,
   "metadata": {},
   "outputs": [
    {
     "data": {
      "text/html": [
       "<div>\n",
       "<style scoped>\n",
       "    .dataframe tbody tr th:only-of-type {\n",
       "        vertical-align: middle;\n",
       "    }\n",
       "\n",
       "    .dataframe tbody tr th {\n",
       "        vertical-align: top;\n",
       "    }\n",
       "\n",
       "    .dataframe thead th {\n",
       "        text-align: right;\n",
       "    }\n",
       "</style>\n",
       "<table border=\"1\" class=\"dataframe\">\n",
       "  <thead>\n",
       "    <tr style=\"text-align: right;\">\n",
       "      <th></th>\n",
       "      <th>class</th>\n",
       "    </tr>\n",
       "  </thead>\n",
       "  <tbody>\n",
       "    <tr>\n",
       "      <th>Positive</th>\n",
       "      <td>0.615385</td>\n",
       "    </tr>\n",
       "    <tr>\n",
       "      <th>Negative</th>\n",
       "      <td>0.384615</td>\n",
       "    </tr>\n",
       "  </tbody>\n",
       "</table>\n",
       "</div>"
      ],
      "text/plain": [
       "             class\n",
       "Positive  0.615385\n",
       "Negative  0.384615"
      ]
     },
     "execution_count": 4,
     "metadata": {},
     "output_type": "execute_result"
    },
    {
     "data": {
      "image/png": "[encoded data removed]",
      "text/plain": [
       "<Figure size 432x288 with 1 Axes>"
      ]
     },
     "metadata": {
      "needs_background": "light"
     },
     "output_type": "display_data"
    }
   ],
   "source": [
    "# graph of target variable\n",
    "sns.countplot(x=\"class\", data=df, palette = \"Set2\")\n",
    "\n",
    "# table of target variable\n",
    "df['class'].value_counts(normalize=True).to_frame()"
   ]
  },
  {
   "cell_type": "code",
   "execution_count": 38,
   "metadata": {},
   "outputs": [
    {
     "name": "stdout",
     "output_type": "stream",
     "text": [
      "Skewness: 0.3293593578272701\n",
      "Kurtosis: -0.19170941407070163\n"
     ]
    },
    {
     "data": {
      "image/png": "[encoded data removed]",
      "text/plain": [
       "<Figure size 432x288 with 1 Axes>"
      ]
     },
     "metadata": {
      "needs_background": "light"
     },
     "output_type": "display_data"
    }
   ],
   "source": [
    "sns.distplot(df['Age'])\n",
    "print('Skewness: '+ str(df['Age'].skew())) \n",
    "print(\"Kurtosis: \" + str(df['Age'].kurt()))"
   ]
  },
  {
   "cell_type": "markdown",
   "metadata": {},
   "source": [
    "kurtosis and skewness are in acceptable range."
   ]
  },
  {
   "cell_type": "code",
   "execution_count": 17,
   "metadata": {},
   "outputs": [
    {
     "data": {
      "text/plain": [
       "<matplotlib.axes._subplots.AxesSubplot at 0x1fb5815ec70>"
      ]
     },
     "execution_count": 17,
     "metadata": {},
     "output_type": "execute_result"
    },
    {
     "data": {
      "image/png": "[encoded data removed]",
      "text/plain": [
       "<Figure size 432x288 with 1 Axes>"
      ]
     },
     "metadata": {
      "needs_background": "light"
     },
     "output_type": "display_data"
    }
   ],
   "source": [
    "sns.boxplot(x=\"class\", y=\"Age\", data=df)"
   ]
  },
  {
   "cell_type": "code",
   "execution_count": 18,
   "metadata": {},
   "outputs": [
    {
     "data": {
      "text/html": [
       "<div>\n",
       "<style scoped>\n",
       "    .dataframe tbody tr th:only-of-type {\n",
       "        vertical-align: middle;\n",
       "    }\n",
       "\n",
       "    .dataframe tbody tr th {\n",
       "        vertical-align: top;\n",
       "    }\n",
       "\n",
       "    .dataframe thead th {\n",
       "        text-align: right;\n",
       "    }\n",
       "</style>\n",
       "<table border=\"1\" class=\"dataframe\">\n",
       "  <thead>\n",
       "    <tr style=\"text-align: right;\">\n",
       "      <th></th>\n",
       "      <th></th>\n",
       "      <th>class</th>\n",
       "    </tr>\n",
       "    <tr>\n",
       "      <th>Gender</th>\n",
       "      <th>class</th>\n",
       "      <th></th>\n",
       "    </tr>\n",
       "  </thead>\n",
       "  <tbody>\n",
       "    <tr>\n",
       "      <th rowspan=\"2\" valign=\"top\">Female</th>\n",
       "      <th>Positive</th>\n",
       "      <td>0.901042</td>\n",
       "    </tr>\n",
       "    <tr>\n",
       "      <th>Negative</th>\n",
       "      <td>0.098958</td>\n",
       "    </tr>\n",
       "    <tr>\n",
       "      <th rowspan=\"2\" valign=\"top\">Male</th>\n",
       "      <th>Negative</th>\n",
       "      <td>0.551829</td>\n",
       "    </tr>\n",
       "    <tr>\n",
       "      <th>Positive</th>\n",
       "      <td>0.448171</td>\n",
       "    </tr>\n",
       "  </tbody>\n",
       "</table>\n",
       "</div>"
      ],
      "text/plain": [
       "                    class\n",
       "Gender class             \n",
       "Female Positive  0.901042\n",
       "       Negative  0.098958\n",
       "Male   Negative  0.551829\n",
       "       Positive  0.448171"
      ]
     },
     "execution_count": 18,
     "metadata": {},
     "output_type": "execute_result"
    }
   ],
   "source": [
    "df.groupby(['Gender'])['class'].value_counts(normalize=True).to_frame()"
   ]
  },
  {
   "cell_type": "code",
   "execution_count": 19,
   "metadata": {},
   "outputs": [
    {
     "data": {
      "text/html": [
       "<style  type=\"text/css\" >\n",
       "    #T_dfb2a8e7_5212_11eb_9147_68f728fd851drow0_col0 {\n",
       "            background-color:  #ffff66;\n",
       "            color:  #000000;\n",
       "        }    #T_dfb2a8e7_5212_11eb_9147_68f728fd851drow0_col1 {\n",
       "            background-color:  #d9ec66;\n",
       "            color:  #000000;\n",
       "        }    #T_dfb2a8e7_5212_11eb_9147_68f728fd851drow0_col2 {\n",
       "            background-color:  #ffff66;\n",
       "            color:  #000000;\n",
       "        }    #T_dfb2a8e7_5212_11eb_9147_68f728fd851drow1_col0 {\n",
       "            background-color:  #1a8c66;\n",
       "            color:  #000000;\n",
       "        }    #T_dfb2a8e7_5212_11eb_9147_68f728fd851drow1_col1 {\n",
       "            background-color:  #ffff66;\n",
       "            color:  #000000;\n",
       "        }    #T_dfb2a8e7_5212_11eb_9147_68f728fd851drow1_col2 {\n",
       "            background-color:  #95ca66;\n",
       "            color:  #000000;\n",
       "        }    #T_dfb2a8e7_5212_11eb_9147_68f728fd851drow2_col0 {\n",
       "            background-color:  #008066;\n",
       "            color:  #f1f1f1;\n",
       "        }    #T_dfb2a8e7_5212_11eb_9147_68f728fd851drow2_col1 {\n",
       "            background-color:  #008066;\n",
       "            color:  #f1f1f1;\n",
       "        }    #T_dfb2a8e7_5212_11eb_9147_68f728fd851drow2_col2 {\n",
       "            background-color:  #008066;\n",
       "            color:  #f1f1f1;\n",
       "        }</style><table id=\"T_dfb2a8e7_5212_11eb_9147_68f728fd851d\" ><thead>    <tr>        <th class=\"index_name level0\" >class</th>        <th class=\"col_heading level0 col0\" >Negative</th>        <th class=\"col_heading level0 col1\" >Positive</th>        <th class=\"col_heading level0 col2\" >All</th>    </tr>    <tr>        <th class=\"index_name level0\" >Gender</th>        <th class=\"blank\" ></th>        <th class=\"blank\" ></th>        <th class=\"blank\" ></th>    </tr></thead><tbody>\n",
       "                <tr>\n",
       "                        <th id=\"T_dfb2a8e7_5212_11eb_9147_68f728fd851dlevel0_row0\" class=\"row_heading level0 row0\" >Female</th>\n",
       "                        <td id=\"T_dfb2a8e7_5212_11eb_9147_68f728fd851drow0_col0\" class=\"data row0 col0\" >19</td>\n",
       "                        <td id=\"T_dfb2a8e7_5212_11eb_9147_68f728fd851drow0_col1\" class=\"data row0 col1\" >173</td>\n",
       "                        <td id=\"T_dfb2a8e7_5212_11eb_9147_68f728fd851drow0_col2\" class=\"data row0 col2\" >192</td>\n",
       "            </tr>\n",
       "            <tr>\n",
       "                        <th id=\"T_dfb2a8e7_5212_11eb_9147_68f728fd851dlevel0_row1\" class=\"row_heading level0 row1\" >Male</th>\n",
       "                        <td id=\"T_dfb2a8e7_5212_11eb_9147_68f728fd851drow1_col0\" class=\"data row1 col0\" >181</td>\n",
       "                        <td id=\"T_dfb2a8e7_5212_11eb_9147_68f728fd851drow1_col1\" class=\"data row1 col1\" >147</td>\n",
       "                        <td id=\"T_dfb2a8e7_5212_11eb_9147_68f728fd851drow1_col2\" class=\"data row1 col2\" >328</td>\n",
       "            </tr>\n",
       "            <tr>\n",
       "                        <th id=\"T_dfb2a8e7_5212_11eb_9147_68f728fd851dlevel0_row2\" class=\"row_heading level0 row2\" >All</th>\n",
       "                        <td id=\"T_dfb2a8e7_5212_11eb_9147_68f728fd851drow2_col0\" class=\"data row2 col0\" >200</td>\n",
       "                        <td id=\"T_dfb2a8e7_5212_11eb_9147_68f728fd851drow2_col1\" class=\"data row2 col1\" >320</td>\n",
       "                        <td id=\"T_dfb2a8e7_5212_11eb_9147_68f728fd851drow2_col2\" class=\"data row2 col2\" >520</td>\n",
       "            </tr>\n",
       "    </tbody></table>"
      ],
      "text/plain": [
       "<pandas.io.formats.style.Styler at 0x1fb52c48bb0>"
      ]
     },
     "execution_count": 19,
     "metadata": {},
     "output_type": "execute_result"
    }
   ],
   "source": [
    "pd.crosstab(df.Gender, df['class'], margins=True).style.background_gradient(cmap='summer_r')"
   ]
  },
  {
   "cell_type": "code",
   "execution_count": 25,
   "metadata": {},
   "outputs": [
    {
     "data": {
      "text/html": [
       "<div>\n",
       "<style scoped>\n",
       "    .dataframe tbody tr th:only-of-type {\n",
       "        vertical-align: middle;\n",
       "    }\n",
       "\n",
       "    .dataframe tbody tr th {\n",
       "        vertical-align: top;\n",
       "    }\n",
       "\n",
       "    .dataframe thead th {\n",
       "        text-align: right;\n",
       "    }\n",
       "</style>\n",
       "<table border=\"1\" class=\"dataframe\">\n",
       "  <thead>\n",
       "    <tr style=\"text-align: right;\">\n",
       "      <th></th>\n",
       "      <th></th>\n",
       "      <th>class</th>\n",
       "    </tr>\n",
       "    <tr>\n",
       "      <th>Obesity</th>\n",
       "      <th>class</th>\n",
       "      <th></th>\n",
       "    </tr>\n",
       "  </thead>\n",
       "  <tbody>\n",
       "    <tr>\n",
       "      <th rowspan=\"2\" valign=\"top\">No</th>\n",
       "      <th>Positive</th>\n",
       "      <td>0.599537</td>\n",
       "    </tr>\n",
       "    <tr>\n",
       "      <th>Negative</th>\n",
       "      <td>0.400463</td>\n",
       "    </tr>\n",
       "    <tr>\n",
       "      <th rowspan=\"2\" valign=\"top\">Yes</th>\n",
       "      <th>Positive</th>\n",
       "      <td>0.693182</td>\n",
       "    </tr>\n",
       "    <tr>\n",
       "      <th>Negative</th>\n",
       "      <td>0.306818</td>\n",
       "    </tr>\n",
       "  </tbody>\n",
       "</table>\n",
       "</div>"
      ],
      "text/plain": [
       "                     class\n",
       "Obesity class             \n",
       "No      Positive  0.599537\n",
       "        Negative  0.400463\n",
       "Yes     Positive  0.693182\n",
       "        Negative  0.306818"
      ]
     },
     "execution_count": 25,
     "metadata": {},
     "output_type": "execute_result"
    }
   ],
   "source": [
    "df.groupby(['Obesity'])['class'].value_counts(normalize=True).to_frame()"
   ]
  },
  {
   "cell_type": "code",
   "execution_count": 26,
   "metadata": {},
   "outputs": [
    {
     "data": {
      "text/html": [
       "<style  type=\"text/css\" >\n",
       "    #T_84c97938_5213_11eb_b92f_68f728fd851drow0_col0 {\n",
       "            background-color:  #279366;\n",
       "            color:  #000000;\n",
       "        }    #T_84c97938_5213_11eb_b92f_68f728fd851drow0_col1 {\n",
       "            background-color:  #3c9e66;\n",
       "            color:  #000000;\n",
       "        }    #T_84c97938_5213_11eb_b92f_68f728fd851drow0_col2 {\n",
       "            background-color:  #349a66;\n",
       "            color:  #000000;\n",
       "        }    #T_84c97938_5213_11eb_b92f_68f728fd851drow1_col0 {\n",
       "            background-color:  #ffff66;\n",
       "            color:  #000000;\n",
       "        }    #T_84c97938_5213_11eb_b92f_68f728fd851drow1_col1 {\n",
       "            background-color:  #ffff66;\n",
       "            color:  #000000;\n",
       "        }    #T_84c97938_5213_11eb_b92f_68f728fd851drow1_col2 {\n",
       "            background-color:  #ffff66;\n",
       "            color:  #000000;\n",
       "        }    #T_84c97938_5213_11eb_b92f_68f728fd851drow2_col0 {\n",
       "            background-color:  #008066;\n",
       "            color:  #f1f1f1;\n",
       "        }    #T_84c97938_5213_11eb_b92f_68f728fd851drow2_col1 {\n",
       "            background-color:  #008066;\n",
       "            color:  #f1f1f1;\n",
       "        }    #T_84c97938_5213_11eb_b92f_68f728fd851drow2_col2 {\n",
       "            background-color:  #008066;\n",
       "            color:  #f1f1f1;\n",
       "        }</style><table id=\"T_84c97938_5213_11eb_b92f_68f728fd851d\" ><thead>    <tr>        <th class=\"index_name level0\" >class</th>        <th class=\"col_heading level0 col0\" >Negative</th>        <th class=\"col_heading level0 col1\" >Positive</th>        <th class=\"col_heading level0 col2\" >All</th>    </tr>    <tr>        <th class=\"index_name level0\" >Obesity</th>        <th class=\"blank\" ></th>        <th class=\"blank\" ></th>        <th class=\"blank\" ></th>    </tr></thead><tbody>\n",
       "                <tr>\n",
       "                        <th id=\"T_84c97938_5213_11eb_b92f_68f728fd851dlevel0_row0\" class=\"row_heading level0 row0\" >No</th>\n",
       "                        <td id=\"T_84c97938_5213_11eb_b92f_68f728fd851drow0_col0\" class=\"data row0 col0\" >173</td>\n",
       "                        <td id=\"T_84c97938_5213_11eb_b92f_68f728fd851drow0_col1\" class=\"data row0 col1\" >259</td>\n",
       "                        <td id=\"T_84c97938_5213_11eb_b92f_68f728fd851drow0_col2\" class=\"data row0 col2\" >432</td>\n",
       "            </tr>\n",
       "            <tr>\n",
       "                        <th id=\"T_84c97938_5213_11eb_b92f_68f728fd851dlevel0_row1\" class=\"row_heading level0 row1\" >Yes</th>\n",
       "                        <td id=\"T_84c97938_5213_11eb_b92f_68f728fd851drow1_col0\" class=\"data row1 col0\" >27</td>\n",
       "                        <td id=\"T_84c97938_5213_11eb_b92f_68f728fd851drow1_col1\" class=\"data row1 col1\" >61</td>\n",
       "                        <td id=\"T_84c97938_5213_11eb_b92f_68f728fd851drow1_col2\" class=\"data row1 col2\" >88</td>\n",
       "            </tr>\n",
       "            <tr>\n",
       "                        <th id=\"T_84c97938_5213_11eb_b92f_68f728fd851dlevel0_row2\" class=\"row_heading level0 row2\" >All</th>\n",
       "                        <td id=\"T_84c97938_5213_11eb_b92f_68f728fd851drow2_col0\" class=\"data row2 col0\" >200</td>\n",
       "                        <td id=\"T_84c97938_5213_11eb_b92f_68f728fd851drow2_col1\" class=\"data row2 col1\" >320</td>\n",
       "                        <td id=\"T_84c97938_5213_11eb_b92f_68f728fd851drow2_col2\" class=\"data row2 col2\" >520</td>\n",
       "            </tr>\n",
       "    </tbody></table>"
      ],
      "text/plain": [
       "<pandas.io.formats.style.Styler at 0x1fb583a3190>"
      ]
     },
     "execution_count": 26,
     "metadata": {},
     "output_type": "execute_result"
    }
   ],
   "source": [
    "pd.crosstab(df['Obesity'], df['class'], margins=True).style.background_gradient(cmap='summer_r')"
   ]
  },
  {
   "cell_type": "code",
   "execution_count": 24,
   "metadata": {},
   "outputs": [
    {
     "data": {
      "text/html": [
       "<div>\n",
       "<style scoped>\n",
       "    .dataframe tbody tr th:only-of-type {\n",
       "        vertical-align: middle;\n",
       "    }\n",
       "\n",
       "    .dataframe tbody tr th {\n",
       "        vertical-align: top;\n",
       "    }\n",
       "\n",
       "    .dataframe thead th {\n",
       "        text-align: right;\n",
       "    }\n",
       "</style>\n",
       "<table border=\"1\" class=\"dataframe\">\n",
       "  <thead>\n",
       "    <tr style=\"text-align: right;\">\n",
       "      <th></th>\n",
       "      <th></th>\n",
       "      <th>class</th>\n",
       "    </tr>\n",
       "    <tr>\n",
       "      <th>muscle stiffness</th>\n",
       "      <th>class</th>\n",
       "      <th></th>\n",
       "    </tr>\n",
       "  </thead>\n",
       "  <tbody>\n",
       "    <tr>\n",
       "      <th rowspan=\"2\" valign=\"top\">No</th>\n",
       "      <th>Positive</th>\n",
       "      <td>0.569231</td>\n",
       "    </tr>\n",
       "    <tr>\n",
       "      <th>Negative</th>\n",
       "      <td>0.430769</td>\n",
       "    </tr>\n",
       "    <tr>\n",
       "      <th rowspan=\"2\" valign=\"top\">Yes</th>\n",
       "      <th>Positive</th>\n",
       "      <td>0.692308</td>\n",
       "    </tr>\n",
       "    <tr>\n",
       "      <th>Negative</th>\n",
       "      <td>0.307692</td>\n",
       "    </tr>\n",
       "  </tbody>\n",
       "</table>\n",
       "</div>"
      ],
      "text/plain": [
       "                              class\n",
       "muscle stiffness class             \n",
       "No               Positive  0.569231\n",
       "                 Negative  0.430769\n",
       "Yes              Positive  0.692308\n",
       "                 Negative  0.307692"
      ]
     },
     "execution_count": 24,
     "metadata": {},
     "output_type": "execute_result"
    }
   ],
   "source": [
    "df.groupby(['muscle stiffness'])['class'].value_counts(normalize=True).to_frame()"
   ]
  },
  {
   "cell_type": "code",
   "execution_count": 50,
   "metadata": {},
   "outputs": [
    {
     "data": {
      "text/html": [
       "<style  type=\"text/css\" >\n",
       "    #T_a3bef7b9_5458_11eb_a2b5_68f728fd851drow0_col0 {\n",
       "            background-color:  #6db666;\n",
       "            color:  #000000;\n",
       "        }    #T_a3bef7b9_5458_11eb_a2b5_68f728fd851drow0_col1 {\n",
       "            background-color:  #badc66;\n",
       "            color:  #000000;\n",
       "        }    #T_a3bef7b9_5458_11eb_a2b5_68f728fd851drow0_col2 {\n",
       "            background-color:  #99cc66;\n",
       "            color:  #000000;\n",
       "        }    #T_a3bef7b9_5458_11eb_a2b5_68f728fd851drow1_col0 {\n",
       "            background-color:  #ffff66;\n",
       "            color:  #000000;\n",
       "        }    #T_a3bef7b9_5458_11eb_a2b5_68f728fd851drow1_col1 {\n",
       "            background-color:  #ffff66;\n",
       "            color:  #000000;\n",
       "        }    #T_a3bef7b9_5458_11eb_a2b5_68f728fd851drow1_col2 {\n",
       "            background-color:  #ffff66;\n",
       "            color:  #000000;\n",
       "        }    #T_a3bef7b9_5458_11eb_a2b5_68f728fd851drow2_col0 {\n",
       "            background-color:  #008066;\n",
       "            color:  #f1f1f1;\n",
       "        }    #T_a3bef7b9_5458_11eb_a2b5_68f728fd851drow2_col1 {\n",
       "            background-color:  #008066;\n",
       "            color:  #f1f1f1;\n",
       "        }    #T_a3bef7b9_5458_11eb_a2b5_68f728fd851drow2_col2 {\n",
       "            background-color:  #008066;\n",
       "            color:  #f1f1f1;\n",
       "        }</style><table id=\"T_a3bef7b9_5458_11eb_a2b5_68f728fd851d\" ><thead>    <tr>        <th class=\"index_name level0\" >class</th>        <th class=\"col_heading level0 col0\" >0</th>        <th class=\"col_heading level0 col1\" >1</th>        <th class=\"col_heading level0 col2\" >All</th>    </tr>    <tr>        <th class=\"index_name level0\" >muscle stiffness</th>        <th class=\"blank\" ></th>        <th class=\"blank\" ></th>        <th class=\"blank\" ></th>    </tr></thead><tbody>\n",
       "                <tr>\n",
       "                        <th id=\"T_a3bef7b9_5458_11eb_a2b5_68f728fd851dlevel0_row0\" class=\"row_heading level0 row0\" >No</th>\n",
       "                        <td id=\"T_a3bef7b9_5458_11eb_a2b5_68f728fd851drow0_col0\" class=\"data row0 col0\" >140</td>\n",
       "                        <td id=\"T_a3bef7b9_5458_11eb_a2b5_68f728fd851drow0_col1\" class=\"data row0 col1\" >185</td>\n",
       "                        <td id=\"T_a3bef7b9_5458_11eb_a2b5_68f728fd851drow0_col2\" class=\"data row0 col2\" >325</td>\n",
       "            </tr>\n",
       "            <tr>\n",
       "                        <th id=\"T_a3bef7b9_5458_11eb_a2b5_68f728fd851dlevel0_row1\" class=\"row_heading level0 row1\" >Yes</th>\n",
       "                        <td id=\"T_a3bef7b9_5458_11eb_a2b5_68f728fd851drow1_col0\" class=\"data row1 col0\" >60</td>\n",
       "                        <td id=\"T_a3bef7b9_5458_11eb_a2b5_68f728fd851drow1_col1\" class=\"data row1 col1\" >135</td>\n",
       "                        <td id=\"T_a3bef7b9_5458_11eb_a2b5_68f728fd851drow1_col2\" class=\"data row1 col2\" >195</td>\n",
       "            </tr>\n",
       "            <tr>\n",
       "                        <th id=\"T_a3bef7b9_5458_11eb_a2b5_68f728fd851dlevel0_row2\" class=\"row_heading level0 row2\" >All</th>\n",
       "                        <td id=\"T_a3bef7b9_5458_11eb_a2b5_68f728fd851drow2_col0\" class=\"data row2 col0\" >200</td>\n",
       "                        <td id=\"T_a3bef7b9_5458_11eb_a2b5_68f728fd851drow2_col1\" class=\"data row2 col1\" >320</td>\n",
       "                        <td id=\"T_a3bef7b9_5458_11eb_a2b5_68f728fd851drow2_col2\" class=\"data row2 col2\" >520</td>\n",
       "            </tr>\n",
       "    </tbody></table>"
      ],
      "text/plain": [
       "<pandas.io.formats.style.Styler at 0x1b1534c9ca0>"
      ]
     },
     "execution_count": 50,
     "metadata": {},
     "output_type": "execute_result"
    }
   ],
   "source": [
    "pd.crosstab(df['muscle stiffness'], df['class'], margins=True).style.background_gradient(cmap='summer_r')"
   ]
  },
  {
   "cell_type": "code",
   "execution_count": 27,
   "metadata": {},
   "outputs": [
    {
     "data": {
      "text/html": [
       "<div>\n",
       "<style scoped>\n",
       "    .dataframe tbody tr th:only-of-type {\n",
       "        vertical-align: middle;\n",
       "    }\n",
       "\n",
       "    .dataframe tbody tr th {\n",
       "        vertical-align: top;\n",
       "    }\n",
       "\n",
       "    .dataframe thead th {\n",
       "        text-align: right;\n",
       "    }\n",
       "</style>\n",
       "<table border=\"1\" class=\"dataframe\">\n",
       "  <thead>\n",
       "    <tr style=\"text-align: right;\">\n",
       "      <th></th>\n",
       "      <th></th>\n",
       "      <th>class</th>\n",
       "    </tr>\n",
       "    <tr>\n",
       "      <th>Alopecia</th>\n",
       "      <th>class</th>\n",
       "      <th></th>\n",
       "    </tr>\n",
       "  </thead>\n",
       "  <tbody>\n",
       "    <tr>\n",
       "      <th rowspan=\"2\" valign=\"top\">No</th>\n",
       "      <th>Positive</th>\n",
       "      <td>0.709677</td>\n",
       "    </tr>\n",
       "    <tr>\n",
       "      <th>Negative</th>\n",
       "      <td>0.290323</td>\n",
       "    </tr>\n",
       "    <tr>\n",
       "      <th rowspan=\"2\" valign=\"top\">Yes</th>\n",
       "      <th>Negative</th>\n",
       "      <td>0.564246</td>\n",
       "    </tr>\n",
       "    <tr>\n",
       "      <th>Positive</th>\n",
       "      <td>0.435754</td>\n",
       "    </tr>\n",
       "  </tbody>\n",
       "</table>\n",
       "</div>"
      ],
      "text/plain": [
       "                      class\n",
       "Alopecia class             \n",
       "No       Positive  0.709677\n",
       "         Negative  0.290323\n",
       "Yes      Negative  0.564246\n",
       "         Positive  0.435754"
      ]
     },
     "execution_count": 27,
     "metadata": {},
     "output_type": "execute_result"
    }
   ],
   "source": [
    "df.groupby(['Alopecia'])['class'].value_counts(normalize=True).to_frame()"
   ]
  },
  {
   "cell_type": "code",
   "execution_count": 28,
   "metadata": {},
   "outputs": [
    {
     "data": {
      "text/html": [
       "<style  type=\"text/css\" >\n",
       "    #T_b445396c_5213_11eb_8b4a_68f728fd851drow0_col0 {\n",
       "            background-color:  #ffff66;\n",
       "            color:  #000000;\n",
       "        }    #T_b445396c_5213_11eb_8b4a_68f728fd851drow0_col1 {\n",
       "            background-color:  #52a866;\n",
       "            color:  #000000;\n",
       "        }    #T_b445396c_5213_11eb_8b4a_68f728fd851drow0_col2 {\n",
       "            background-color:  #86c266;\n",
       "            color:  #000000;\n",
       "        }    #T_b445396c_5213_11eb_8b4a_68f728fd851drow1_col0 {\n",
       "            background-color:  #fafc66;\n",
       "            color:  #000000;\n",
       "        }    #T_b445396c_5213_11eb_8b4a_68f728fd851drow1_col1 {\n",
       "            background-color:  #ffff66;\n",
       "            color:  #000000;\n",
       "        }    #T_b445396c_5213_11eb_8b4a_68f728fd851drow1_col2 {\n",
       "            background-color:  #ffff66;\n",
       "            color:  #000000;\n",
       "        }    #T_b445396c_5213_11eb_8b4a_68f728fd851drow2_col0 {\n",
       "            background-color:  #008066;\n",
       "            color:  #f1f1f1;\n",
       "        }    #T_b445396c_5213_11eb_8b4a_68f728fd851drow2_col1 {\n",
       "            background-color:  #008066;\n",
       "            color:  #f1f1f1;\n",
       "        }    #T_b445396c_5213_11eb_8b4a_68f728fd851drow2_col2 {\n",
       "            background-color:  #008066;\n",
       "            color:  #f1f1f1;\n",
       "        }</style><table id=\"T_b445396c_5213_11eb_8b4a_68f728fd851d\" ><thead>    <tr>        <th class=\"index_name level0\" >class</th>        <th class=\"col_heading level0 col0\" >Negative</th>        <th class=\"col_heading level0 col1\" >Positive</th>        <th class=\"col_heading level0 col2\" >All</th>    </tr>    <tr>        <th class=\"index_name level0\" >Alopecia</th>        <th class=\"blank\" ></th>        <th class=\"blank\" ></th>        <th class=\"blank\" ></th>    </tr></thead><tbody>\n",
       "                <tr>\n",
       "                        <th id=\"T_b445396c_5213_11eb_8b4a_68f728fd851dlevel0_row0\" class=\"row_heading level0 row0\" >No</th>\n",
       "                        <td id=\"T_b445396c_5213_11eb_8b4a_68f728fd851drow0_col0\" class=\"data row0 col0\" >99</td>\n",
       "                        <td id=\"T_b445396c_5213_11eb_8b4a_68f728fd851drow0_col1\" class=\"data row0 col1\" >242</td>\n",
       "                        <td id=\"T_b445396c_5213_11eb_8b4a_68f728fd851drow0_col2\" class=\"data row0 col2\" >341</td>\n",
       "            </tr>\n",
       "            <tr>\n",
       "                        <th id=\"T_b445396c_5213_11eb_8b4a_68f728fd851dlevel0_row1\" class=\"row_heading level0 row1\" >Yes</th>\n",
       "                        <td id=\"T_b445396c_5213_11eb_8b4a_68f728fd851drow1_col0\" class=\"data row1 col0\" >101</td>\n",
       "                        <td id=\"T_b445396c_5213_11eb_8b4a_68f728fd851drow1_col1\" class=\"data row1 col1\" >78</td>\n",
       "                        <td id=\"T_b445396c_5213_11eb_8b4a_68f728fd851drow1_col2\" class=\"data row1 col2\" >179</td>\n",
       "            </tr>\n",
       "            <tr>\n",
       "                        <th id=\"T_b445396c_5213_11eb_8b4a_68f728fd851dlevel0_row2\" class=\"row_heading level0 row2\" >All</th>\n",
       "                        <td id=\"T_b445396c_5213_11eb_8b4a_68f728fd851drow2_col0\" class=\"data row2 col0\" >200</td>\n",
       "                        <td id=\"T_b445396c_5213_11eb_8b4a_68f728fd851drow2_col1\" class=\"data row2 col1\" >320</td>\n",
       "                        <td id=\"T_b445396c_5213_11eb_8b4a_68f728fd851drow2_col2\" class=\"data row2 col2\" >520</td>\n",
       "            </tr>\n",
       "    </tbody></table>"
      ],
      "text/plain": [
       "<pandas.io.formats.style.Styler at 0x1fb58238220>"
      ]
     },
     "execution_count": 28,
     "metadata": {},
     "output_type": "execute_result"
    }
   ],
   "source": [
    "pd.crosstab(df['Alopecia'], df['class'], margins=True).style.background_gradient(cmap='summer_r')"
   ]
  },
  {
   "cell_type": "code",
   "execution_count": 29,
   "metadata": {},
   "outputs": [
    {
     "data": {
      "text/html": [
       "<div>\n",
       "<style scoped>\n",
       "    .dataframe tbody tr th:only-of-type {\n",
       "        vertical-align: middle;\n",
       "    }\n",
       "\n",
       "    .dataframe tbody tr th {\n",
       "        vertical-align: top;\n",
       "    }\n",
       "\n",
       "    .dataframe thead th {\n",
       "        text-align: right;\n",
       "    }\n",
       "</style>\n",
       "<table border=\"1\" class=\"dataframe\">\n",
       "  <thead>\n",
       "    <tr style=\"text-align: right;\">\n",
       "      <th></th>\n",
       "      <th></th>\n",
       "      <th>class</th>\n",
       "    </tr>\n",
       "    <tr>\n",
       "      <th>partial paresis</th>\n",
       "      <th>class</th>\n",
       "      <th></th>\n",
       "    </tr>\n",
       "  </thead>\n",
       "  <tbody>\n",
       "    <tr>\n",
       "      <th rowspan=\"2\" valign=\"top\">No</th>\n",
       "      <th>Negative</th>\n",
       "      <td>0.567568</td>\n",
       "    </tr>\n",
       "    <tr>\n",
       "      <th>Positive</th>\n",
       "      <td>0.432432</td>\n",
       "    </tr>\n",
       "    <tr>\n",
       "      <th rowspan=\"2\" valign=\"top\">Yes</th>\n",
       "      <th>Positive</th>\n",
       "      <td>0.857143</td>\n",
       "    </tr>\n",
       "    <tr>\n",
       "      <th>Negative</th>\n",
       "      <td>0.142857</td>\n",
       "    </tr>\n",
       "  </tbody>\n",
       "</table>\n",
       "</div>"
      ],
      "text/plain": [
       "                             class\n",
       "partial paresis class             \n",
       "No              Negative  0.567568\n",
       "                Positive  0.432432\n",
       "Yes             Positive  0.857143\n",
       "                Negative  0.142857"
      ]
     },
     "execution_count": 29,
     "metadata": {},
     "output_type": "execute_result"
    }
   ],
   "source": [
    "df.groupby(['partial paresis'])['class'].value_counts(normalize=True).to_frame()"
   ]
  },
  {
   "cell_type": "code",
   "execution_count": 30,
   "metadata": {},
   "outputs": [
    {
     "data": {
      "text/html": [
       "<style  type=\"text/css\" >\n",
       "    #T_dc7a3ab0_5213_11eb_91d5_68f728fd851drow0_col0 {\n",
       "            background-color:  #309866;\n",
       "            color:  #000000;\n",
       "        }    #T_dc7a3ab0_5213_11eb_91d5_68f728fd851drow0_col1 {\n",
       "            background-color:  #ffff66;\n",
       "            color:  #000000;\n",
       "        }    #T_dc7a3ab0_5213_11eb_91d5_68f728fd851drow0_col2 {\n",
       "            background-color:  #c1e066;\n",
       "            color:  #000000;\n",
       "        }    #T_dc7a3ab0_5213_11eb_91d5_68f728fd851drow1_col0 {\n",
       "            background-color:  #ffff66;\n",
       "            color:  #000000;\n",
       "        }    #T_dc7a3ab0_5213_11eb_91d5_68f728fd851drow1_col1 {\n",
       "            background-color:  #aad466;\n",
       "            color:  #000000;\n",
       "        }    #T_dc7a3ab0_5213_11eb_91d5_68f728fd851drow1_col2 {\n",
       "            background-color:  #ffff66;\n",
       "            color:  #000000;\n",
       "        }    #T_dc7a3ab0_5213_11eb_91d5_68f728fd851drow2_col0 {\n",
       "            background-color:  #008066;\n",
       "            color:  #f1f1f1;\n",
       "        }    #T_dc7a3ab0_5213_11eb_91d5_68f728fd851drow2_col1 {\n",
       "            background-color:  #008066;\n",
       "            color:  #f1f1f1;\n",
       "        }    #T_dc7a3ab0_5213_11eb_91d5_68f728fd851drow2_col2 {\n",
       "            background-color:  #008066;\n",
       "            color:  #f1f1f1;\n",
       "        }</style><table id=\"T_dc7a3ab0_5213_11eb_91d5_68f728fd851d\" ><thead>    <tr>        <th class=\"index_name level0\" >class</th>        <th class=\"col_heading level0 col0\" >Negative</th>        <th class=\"col_heading level0 col1\" >Positive</th>        <th class=\"col_heading level0 col2\" >All</th>    </tr>    <tr>        <th class=\"index_name level0\" >partial paresis</th>        <th class=\"blank\" ></th>        <th class=\"blank\" ></th>        <th class=\"blank\" ></th>    </tr></thead><tbody>\n",
       "                <tr>\n",
       "                        <th id=\"T_dc7a3ab0_5213_11eb_91d5_68f728fd851dlevel0_row0\" class=\"row_heading level0 row0\" >No</th>\n",
       "                        <td id=\"T_dc7a3ab0_5213_11eb_91d5_68f728fd851drow0_col0\" class=\"data row0 col0\" >168</td>\n",
       "                        <td id=\"T_dc7a3ab0_5213_11eb_91d5_68f728fd851drow0_col1\" class=\"data row0 col1\" >128</td>\n",
       "                        <td id=\"T_dc7a3ab0_5213_11eb_91d5_68f728fd851drow0_col2\" class=\"data row0 col2\" >296</td>\n",
       "            </tr>\n",
       "            <tr>\n",
       "                        <th id=\"T_dc7a3ab0_5213_11eb_91d5_68f728fd851dlevel0_row1\" class=\"row_heading level0 row1\" >Yes</th>\n",
       "                        <td id=\"T_dc7a3ab0_5213_11eb_91d5_68f728fd851drow1_col0\" class=\"data row1 col0\" >32</td>\n",
       "                        <td id=\"T_dc7a3ab0_5213_11eb_91d5_68f728fd851drow1_col1\" class=\"data row1 col1\" >192</td>\n",
       "                        <td id=\"T_dc7a3ab0_5213_11eb_91d5_68f728fd851drow1_col2\" class=\"data row1 col2\" >224</td>\n",
       "            </tr>\n",
       "            <tr>\n",
       "                        <th id=\"T_dc7a3ab0_5213_11eb_91d5_68f728fd851dlevel0_row2\" class=\"row_heading level0 row2\" >All</th>\n",
       "                        <td id=\"T_dc7a3ab0_5213_11eb_91d5_68f728fd851drow2_col0\" class=\"data row2 col0\" >200</td>\n",
       "                        <td id=\"T_dc7a3ab0_5213_11eb_91d5_68f728fd851drow2_col1\" class=\"data row2 col1\" >320</td>\n",
       "                        <td id=\"T_dc7a3ab0_5213_11eb_91d5_68f728fd851drow2_col2\" class=\"data row2 col2\" >520</td>\n",
       "            </tr>\n",
       "    </tbody></table>"
      ],
      "text/plain": [
       "<pandas.io.formats.style.Styler at 0x1fb583a35b0>"
      ]
     },
     "execution_count": 30,
     "metadata": {},
     "output_type": "execute_result"
    }
   ],
   "source": [
    "pd.crosstab(df['partial paresis'], df['class'], margins=True).style.background_gradient(cmap='summer_r')"
   ]
  },
  {
   "cell_type": "code",
   "execution_count": 31,
   "metadata": {},
   "outputs": [
    {
     "data": {
      "text/html": [
       "<div>\n",
       "<style scoped>\n",
       "    .dataframe tbody tr th:only-of-type {\n",
       "        vertical-align: middle;\n",
       "    }\n",
       "\n",
       "    .dataframe tbody tr th {\n",
       "        vertical-align: top;\n",
       "    }\n",
       "\n",
       "    .dataframe thead th {\n",
       "        text-align: right;\n",
       "    }\n",
       "</style>\n",
       "<table border=\"1\" class=\"dataframe\">\n",
       "  <thead>\n",
       "    <tr style=\"text-align: right;\">\n",
       "      <th></th>\n",
       "      <th></th>\n",
       "      <th>class</th>\n",
       "    </tr>\n",
       "    <tr>\n",
       "      <th>delayed healing</th>\n",
       "      <th>class</th>\n",
       "      <th></th>\n",
       "    </tr>\n",
       "  </thead>\n",
       "  <tbody>\n",
       "    <tr>\n",
       "      <th rowspan=\"2\" valign=\"top\">No</th>\n",
       "      <th>Positive</th>\n",
       "      <td>0.594306</td>\n",
       "    </tr>\n",
       "    <tr>\n",
       "      <th>Negative</th>\n",
       "      <td>0.405694</td>\n",
       "    </tr>\n",
       "    <tr>\n",
       "      <th rowspan=\"2\" valign=\"top\">Yes</th>\n",
       "      <th>Positive</th>\n",
       "      <td>0.640167</td>\n",
       "    </tr>\n",
       "    <tr>\n",
       "      <th>Negative</th>\n",
       "      <td>0.359833</td>\n",
       "    </tr>\n",
       "  </tbody>\n",
       "</table>\n",
       "</div>"
      ],
      "text/plain": [
       "                             class\n",
       "delayed healing class             \n",
       "No              Positive  0.594306\n",
       "                Negative  0.405694\n",
       "Yes             Positive  0.640167\n",
       "                Negative  0.359833"
      ]
     },
     "execution_count": 31,
     "metadata": {},
     "output_type": "execute_result"
    }
   ],
   "source": [
    "df.groupby(['delayed healing'])['class'].value_counts(normalize=True).to_frame()"
   ]
  },
  {
   "cell_type": "code",
   "execution_count": 32,
   "metadata": {},
   "outputs": [
    {
     "data": {
      "text/html": [
       "<style  type=\"text/css\" >\n",
       "    #T_13e72987_5214_11eb_84a3_68f728fd851drow0_col0 {\n",
       "            background-color:  #c1e066;\n",
       "            color:  #000000;\n",
       "        }    #T_13e72987_5214_11eb_84a3_68f728fd851drow0_col1 {\n",
       "            background-color:  #eaf466;\n",
       "            color:  #000000;\n",
       "        }    #T_13e72987_5214_11eb_84a3_68f728fd851drow0_col2 {\n",
       "            background-color:  #d9ec66;\n",
       "            color:  #000000;\n",
       "        }    #T_13e72987_5214_11eb_84a3_68f728fd851drow1_col0 {\n",
       "            background-color:  #ffff66;\n",
       "            color:  #000000;\n",
       "        }    #T_13e72987_5214_11eb_84a3_68f728fd851drow1_col1 {\n",
       "            background-color:  #ffff66;\n",
       "            color:  #000000;\n",
       "        }    #T_13e72987_5214_11eb_84a3_68f728fd851drow1_col2 {\n",
       "            background-color:  #ffff66;\n",
       "            color:  #000000;\n",
       "        }    #T_13e72987_5214_11eb_84a3_68f728fd851drow2_col0 {\n",
       "            background-color:  #008066;\n",
       "            color:  #f1f1f1;\n",
       "        }    #T_13e72987_5214_11eb_84a3_68f728fd851drow2_col1 {\n",
       "            background-color:  #008066;\n",
       "            color:  #f1f1f1;\n",
       "        }    #T_13e72987_5214_11eb_84a3_68f728fd851drow2_col2 {\n",
       "            background-color:  #008066;\n",
       "            color:  #f1f1f1;\n",
       "        }</style><table id=\"T_13e72987_5214_11eb_84a3_68f728fd851d\" ><thead>    <tr>        <th class=\"index_name level0\" >class</th>        <th class=\"col_heading level0 col0\" >Negative</th>        <th class=\"col_heading level0 col1\" >Positive</th>        <th class=\"col_heading level0 col2\" >All</th>    </tr>    <tr>        <th class=\"index_name level0\" >delayed healing</th>        <th class=\"blank\" ></th>        <th class=\"blank\" ></th>        <th class=\"blank\" ></th>    </tr></thead><tbody>\n",
       "                <tr>\n",
       "                        <th id=\"T_13e72987_5214_11eb_84a3_68f728fd851dlevel0_row0\" class=\"row_heading level0 row0\" >No</th>\n",
       "                        <td id=\"T_13e72987_5214_11eb_84a3_68f728fd851drow0_col0\" class=\"data row0 col0\" >114</td>\n",
       "                        <td id=\"T_13e72987_5214_11eb_84a3_68f728fd851drow0_col1\" class=\"data row0 col1\" >167</td>\n",
       "                        <td id=\"T_13e72987_5214_11eb_84a3_68f728fd851drow0_col2\" class=\"data row0 col2\" >281</td>\n",
       "            </tr>\n",
       "            <tr>\n",
       "                        <th id=\"T_13e72987_5214_11eb_84a3_68f728fd851dlevel0_row1\" class=\"row_heading level0 row1\" >Yes</th>\n",
       "                        <td id=\"T_13e72987_5214_11eb_84a3_68f728fd851drow1_col0\" class=\"data row1 col0\" >86</td>\n",
       "                        <td id=\"T_13e72987_5214_11eb_84a3_68f728fd851drow1_col1\" class=\"data row1 col1\" >153</td>\n",
       "                        <td id=\"T_13e72987_5214_11eb_84a3_68f728fd851drow1_col2\" class=\"data row1 col2\" >239</td>\n",
       "            </tr>\n",
       "            <tr>\n",
       "                        <th id=\"T_13e72987_5214_11eb_84a3_68f728fd851dlevel0_row2\" class=\"row_heading level0 row2\" >All</th>\n",
       "                        <td id=\"T_13e72987_5214_11eb_84a3_68f728fd851drow2_col0\" class=\"data row2 col0\" >200</td>\n",
       "                        <td id=\"T_13e72987_5214_11eb_84a3_68f728fd851drow2_col1\" class=\"data row2 col1\" >320</td>\n",
       "                        <td id=\"T_13e72987_5214_11eb_84a3_68f728fd851drow2_col2\" class=\"data row2 col2\" >520</td>\n",
       "            </tr>\n",
       "    </tbody></table>"
      ],
      "text/plain": [
       "<pandas.io.formats.style.Styler at 0x1fb58238250>"
      ]
     },
     "execution_count": 32,
     "metadata": {},
     "output_type": "execute_result"
    }
   ],
   "source": [
    "pd.crosstab(df['delayed healing'], df['class'], margins=True).style.background_gradient(cmap='summer_r')"
   ]
  },
  {
   "cell_type": "code",
   "execution_count": 33,
   "metadata": {},
   "outputs": [
    {
     "data": {
      "text/html": [
       "<div>\n",
       "<style scoped>\n",
       "    .dataframe tbody tr th:only-of-type {\n",
       "        vertical-align: middle;\n",
       "    }\n",
       "\n",
       "    .dataframe tbody tr th {\n",
       "        vertical-align: top;\n",
       "    }\n",
       "\n",
       "    .dataframe thead th {\n",
       "        text-align: right;\n",
       "    }\n",
       "</style>\n",
       "<table border=\"1\" class=\"dataframe\">\n",
       "  <thead>\n",
       "    <tr style=\"text-align: right;\">\n",
       "      <th></th>\n",
       "      <th></th>\n",
       "      <th>class</th>\n",
       "    </tr>\n",
       "    <tr>\n",
       "      <th>Irritability</th>\n",
       "      <th>class</th>\n",
       "      <th></th>\n",
       "    </tr>\n",
       "  </thead>\n",
       "  <tbody>\n",
       "    <tr>\n",
       "      <th rowspan=\"2\" valign=\"top\">No</th>\n",
       "      <th>Positive</th>\n",
       "      <td>0.532995</td>\n",
       "    </tr>\n",
       "    <tr>\n",
       "      <th>Negative</th>\n",
       "      <td>0.467005</td>\n",
       "    </tr>\n",
       "    <tr>\n",
       "      <th rowspan=\"2\" valign=\"top\">Yes</th>\n",
       "      <th>Positive</th>\n",
       "      <td>0.873016</td>\n",
       "    </tr>\n",
       "    <tr>\n",
       "      <th>Negative</th>\n",
       "      <td>0.126984</td>\n",
       "    </tr>\n",
       "  </tbody>\n",
       "</table>\n",
       "</div>"
      ],
      "text/plain": [
       "                          class\n",
       "Irritability class             \n",
       "No           Positive  0.532995\n",
       "             Negative  0.467005\n",
       "Yes          Positive  0.873016\n",
       "             Negative  0.126984"
      ]
     },
     "execution_count": 33,
     "metadata": {},
     "output_type": "execute_result"
    }
   ],
   "source": [
    "df.groupby(['Irritability'])['class'].value_counts(normalize=True).to_frame()"
   ]
  },
  {
   "cell_type": "code",
   "execution_count": 34,
   "metadata": {},
   "outputs": [
    {
     "data": {
      "text/html": [
       "<style  type=\"text/css\" >\n",
       "    #T_385ed0be_5214_11eb_847b_68f728fd851drow0_col0 {\n",
       "            background-color:  #168b66;\n",
       "            color:  #000000;\n",
       "        }    #T_385ed0be_5214_11eb_847b_68f728fd851drow0_col1 {\n",
       "            background-color:  #86c266;\n",
       "            color:  #000000;\n",
       "        }    #T_385ed0be_5214_11eb_847b_68f728fd851drow0_col2 {\n",
       "            background-color:  #51a866;\n",
       "            color:  #000000;\n",
       "        }    #T_385ed0be_5214_11eb_847b_68f728fd851drow1_col0 {\n",
       "            background-color:  #ffff66;\n",
       "            color:  #000000;\n",
       "        }    #T_385ed0be_5214_11eb_847b_68f728fd851drow1_col1 {\n",
       "            background-color:  #ffff66;\n",
       "            color:  #000000;\n",
       "        }    #T_385ed0be_5214_11eb_847b_68f728fd851drow1_col2 {\n",
       "            background-color:  #ffff66;\n",
       "            color:  #000000;\n",
       "        }    #T_385ed0be_5214_11eb_847b_68f728fd851drow2_col0 {\n",
       "            background-color:  #008066;\n",
       "            color:  #f1f1f1;\n",
       "        }    #T_385ed0be_5214_11eb_847b_68f728fd851drow2_col1 {\n",
       "            background-color:  #008066;\n",
       "            color:  #f1f1f1;\n",
       "        }    #T_385ed0be_5214_11eb_847b_68f728fd851drow2_col2 {\n",
       "            background-color:  #008066;\n",
       "            color:  #f1f1f1;\n",
       "        }</style><table id=\"T_385ed0be_5214_11eb_847b_68f728fd851d\" ><thead>    <tr>        <th class=\"index_name level0\" >class</th>        <th class=\"col_heading level0 col0\" >Negative</th>        <th class=\"col_heading level0 col1\" >Positive</th>        <th class=\"col_heading level0 col2\" >All</th>    </tr>    <tr>        <th class=\"index_name level0\" >Irritability</th>        <th class=\"blank\" ></th>        <th class=\"blank\" ></th>        <th class=\"blank\" ></th>    </tr></thead><tbody>\n",
       "                <tr>\n",
       "                        <th id=\"T_385ed0be_5214_11eb_847b_68f728fd851dlevel0_row0\" class=\"row_heading level0 row0\" >No</th>\n",
       "                        <td id=\"T_385ed0be_5214_11eb_847b_68f728fd851drow0_col0\" class=\"data row0 col0\" >184</td>\n",
       "                        <td id=\"T_385ed0be_5214_11eb_847b_68f728fd851drow0_col1\" class=\"data row0 col1\" >210</td>\n",
       "                        <td id=\"T_385ed0be_5214_11eb_847b_68f728fd851drow0_col2\" class=\"data row0 col2\" >394</td>\n",
       "            </tr>\n",
       "            <tr>\n",
       "                        <th id=\"T_385ed0be_5214_11eb_847b_68f728fd851dlevel0_row1\" class=\"row_heading level0 row1\" >Yes</th>\n",
       "                        <td id=\"T_385ed0be_5214_11eb_847b_68f728fd851drow1_col0\" class=\"data row1 col0\" >16</td>\n",
       "                        <td id=\"T_385ed0be_5214_11eb_847b_68f728fd851drow1_col1\" class=\"data row1 col1\" >110</td>\n",
       "                        <td id=\"T_385ed0be_5214_11eb_847b_68f728fd851drow1_col2\" class=\"data row1 col2\" >126</td>\n",
       "            </tr>\n",
       "            <tr>\n",
       "                        <th id=\"T_385ed0be_5214_11eb_847b_68f728fd851dlevel0_row2\" class=\"row_heading level0 row2\" >All</th>\n",
       "                        <td id=\"T_385ed0be_5214_11eb_847b_68f728fd851drow2_col0\" class=\"data row2 col0\" >200</td>\n",
       "                        <td id=\"T_385ed0be_5214_11eb_847b_68f728fd851drow2_col1\" class=\"data row2 col1\" >320</td>\n",
       "                        <td id=\"T_385ed0be_5214_11eb_847b_68f728fd851drow2_col2\" class=\"data row2 col2\" >520</td>\n",
       "            </tr>\n",
       "    </tbody></table>"
      ],
      "text/plain": [
       "<pandas.io.formats.style.Styler at 0x1fb5864aa60>"
      ]
     },
     "execution_count": 34,
     "metadata": {},
     "output_type": "execute_result"
    }
   ],
   "source": [
    "pd.crosstab(df['Irritability'], df['class'], margins=True).style.background_gradient(cmap='summer_r')"
   ]
  },
  {
   "cell_type": "code",
   "execution_count": 35,
   "metadata": {},
   "outputs": [
    {
     "data": {
      "text/html": [
       "<div>\n",
       "<style scoped>\n",
       "    .dataframe tbody tr th:only-of-type {\n",
       "        vertical-align: middle;\n",
       "    }\n",
       "\n",
       "    .dataframe tbody tr th {\n",
       "        vertical-align: top;\n",
       "    }\n",
       "\n",
       "    .dataframe thead th {\n",
       "        text-align: right;\n",
       "    }\n",
       "</style>\n",
       "<table border=\"1\" class=\"dataframe\">\n",
       "  <thead>\n",
       "    <tr style=\"text-align: right;\">\n",
       "      <th></th>\n",
       "      <th></th>\n",
       "      <th>class</th>\n",
       "    </tr>\n",
       "    <tr>\n",
       "      <th>Itching</th>\n",
       "      <th>class</th>\n",
       "      <th></th>\n",
       "    </tr>\n",
       "  </thead>\n",
       "  <tbody>\n",
       "    <tr>\n",
       "      <th rowspan=\"2\" valign=\"top\">No</th>\n",
       "      <th>Positive</th>\n",
       "      <td>0.621723</td>\n",
       "    </tr>\n",
       "    <tr>\n",
       "      <th>Negative</th>\n",
       "      <td>0.378277</td>\n",
       "    </tr>\n",
       "    <tr>\n",
       "      <th rowspan=\"2\" valign=\"top\">Yes</th>\n",
       "      <th>Positive</th>\n",
       "      <td>0.608696</td>\n",
       "    </tr>\n",
       "    <tr>\n",
       "      <th>Negative</th>\n",
       "      <td>0.391304</td>\n",
       "    </tr>\n",
       "  </tbody>\n",
       "</table>\n",
       "</div>"
      ],
      "text/plain": [
       "                     class\n",
       "Itching class             \n",
       "No      Positive  0.621723\n",
       "        Negative  0.378277\n",
       "Yes     Positive  0.608696\n",
       "        Negative  0.391304"
      ]
     },
     "execution_count": 35,
     "metadata": {},
     "output_type": "execute_result"
    }
   ],
   "source": [
    "df.groupby(['Itching'])['class'].value_counts(normalize=True).to_frame()"
   ]
  },
  {
   "cell_type": "code",
   "execution_count": 37,
   "metadata": {},
   "outputs": [
    {
     "data": {
      "text/html": [
       "<style  type=\"text/css\" >\n",
       "    #T_8b4a73bd_5214_11eb_9b17_68f728fd851drow0_col0 {\n",
       "            background-color:  #fafc66;\n",
       "            color:  #000000;\n",
       "        }    #T_8b4a73bd_5214_11eb_9b17_68f728fd851drow0_col1 {\n",
       "            background-color:  #edf666;\n",
       "            color:  #000000;\n",
       "        }    #T_8b4a73bd_5214_11eb_9b17_68f728fd851drow0_col2 {\n",
       "            background-color:  #f2f866;\n",
       "            color:  #000000;\n",
       "        }    #T_8b4a73bd_5214_11eb_9b17_68f728fd851drow1_col0 {\n",
       "            background-color:  #ffff66;\n",
       "            color:  #000000;\n",
       "        }    #T_8b4a73bd_5214_11eb_9b17_68f728fd851drow1_col1 {\n",
       "            background-color:  #ffff66;\n",
       "            color:  #000000;\n",
       "        }    #T_8b4a73bd_5214_11eb_9b17_68f728fd851drow1_col2 {\n",
       "            background-color:  #ffff66;\n",
       "            color:  #000000;\n",
       "        }    #T_8b4a73bd_5214_11eb_9b17_68f728fd851drow2_col0 {\n",
       "            background-color:  #008066;\n",
       "            color:  #f1f1f1;\n",
       "        }    #T_8b4a73bd_5214_11eb_9b17_68f728fd851drow2_col1 {\n",
       "            background-color:  #008066;\n",
       "            color:  #f1f1f1;\n",
       "        }    #T_8b4a73bd_5214_11eb_9b17_68f728fd851drow2_col2 {\n",
       "            background-color:  #008066;\n",
       "            color:  #f1f1f1;\n",
       "        }</style><table id=\"T_8b4a73bd_5214_11eb_9b17_68f728fd851d\" ><thead>    <tr>        <th class=\"index_name level0\" >class</th>        <th class=\"col_heading level0 col0\" >Negative</th>        <th class=\"col_heading level0 col1\" >Positive</th>        <th class=\"col_heading level0 col2\" >All</th>    </tr>    <tr>        <th class=\"index_name level0\" >Itching</th>        <th class=\"blank\" ></th>        <th class=\"blank\" ></th>        <th class=\"blank\" ></th>    </tr></thead><tbody>\n",
       "                <tr>\n",
       "                        <th id=\"T_8b4a73bd_5214_11eb_9b17_68f728fd851dlevel0_row0\" class=\"row_heading level0 row0\" >No</th>\n",
       "                        <td id=\"T_8b4a73bd_5214_11eb_9b17_68f728fd851drow0_col0\" class=\"data row0 col0\" >101</td>\n",
       "                        <td id=\"T_8b4a73bd_5214_11eb_9b17_68f728fd851drow0_col1\" class=\"data row0 col1\" >166</td>\n",
       "                        <td id=\"T_8b4a73bd_5214_11eb_9b17_68f728fd851drow0_col2\" class=\"data row0 col2\" >267</td>\n",
       "            </tr>\n",
       "            <tr>\n",
       "                        <th id=\"T_8b4a73bd_5214_11eb_9b17_68f728fd851dlevel0_row1\" class=\"row_heading level0 row1\" >Yes</th>\n",
       "                        <td id=\"T_8b4a73bd_5214_11eb_9b17_68f728fd851drow1_col0\" class=\"data row1 col0\" >99</td>\n",
       "                        <td id=\"T_8b4a73bd_5214_11eb_9b17_68f728fd851drow1_col1\" class=\"data row1 col1\" >154</td>\n",
       "                        <td id=\"T_8b4a73bd_5214_11eb_9b17_68f728fd851drow1_col2\" class=\"data row1 col2\" >253</td>\n",
       "            </tr>\n",
       "            <tr>\n",
       "                        <th id=\"T_8b4a73bd_5214_11eb_9b17_68f728fd851dlevel0_row2\" class=\"row_heading level0 row2\" >All</th>\n",
       "                        <td id=\"T_8b4a73bd_5214_11eb_9b17_68f728fd851drow2_col0\" class=\"data row2 col0\" >200</td>\n",
       "                        <td id=\"T_8b4a73bd_5214_11eb_9b17_68f728fd851drow2_col1\" class=\"data row2 col1\" >320</td>\n",
       "                        <td id=\"T_8b4a73bd_5214_11eb_9b17_68f728fd851drow2_col2\" class=\"data row2 col2\" >520</td>\n",
       "            </tr>\n",
       "    </tbody></table>"
      ],
      "text/plain": [
       "<pandas.io.formats.style.Styler at 0x1fb5864a940>"
      ]
     },
     "execution_count": 37,
     "metadata": {},
     "output_type": "execute_result"
    }
   ],
   "source": [
    "pd.crosstab(df['Itching'], df['class'], margins=True).style.background_gradient(cmap='summer_r')"
   ]
  },
  {
   "cell_type": "code",
   "execution_count": 36,
   "metadata": {},
   "outputs": [
    {
     "data": {
      "text/html": [
       "<div>\n",
       "<style scoped>\n",
       "    .dataframe tbody tr th:only-of-type {\n",
       "        vertical-align: middle;\n",
       "    }\n",
       "\n",
       "    .dataframe tbody tr th {\n",
       "        vertical-align: top;\n",
       "    }\n",
       "\n",
       "    .dataframe thead th {\n",
       "        text-align: right;\n",
       "    }\n",
       "</style>\n",
       "<table border=\"1\" class=\"dataframe\">\n",
       "  <thead>\n",
       "    <tr style=\"text-align: right;\">\n",
       "      <th></th>\n",
       "      <th></th>\n",
       "      <th>class</th>\n",
       "    </tr>\n",
       "    <tr>\n",
       "      <th>visual blurring</th>\n",
       "      <th>class</th>\n",
       "      <th></th>\n",
       "    </tr>\n",
       "  </thead>\n",
       "  <tbody>\n",
       "    <tr>\n",
       "      <th rowspan=\"2\" valign=\"top\">No</th>\n",
       "      <th>Positive</th>\n",
       "      <td>0.505226</td>\n",
       "    </tr>\n",
       "    <tr>\n",
       "      <th>Negative</th>\n",
       "      <td>0.494774</td>\n",
       "    </tr>\n",
       "    <tr>\n",
       "      <th rowspan=\"2\" valign=\"top\">Yes</th>\n",
       "      <th>Positive</th>\n",
       "      <td>0.751073</td>\n",
       "    </tr>\n",
       "    <tr>\n",
       "      <th>Negative</th>\n",
       "      <td>0.248927</td>\n",
       "    </tr>\n",
       "  </tbody>\n",
       "</table>\n",
       "</div>"
      ],
      "text/plain": [
       "                             class\n",
       "visual blurring class             \n",
       "No              Positive  0.505226\n",
       "                Negative  0.494774\n",
       "Yes             Positive  0.751073\n",
       "                Negative  0.248927"
      ]
     },
     "execution_count": 36,
     "metadata": {},
     "output_type": "execute_result"
    }
   ],
   "source": [
    "df.groupby(['visual blurring'])['class'].value_counts(normalize=True).to_frame()"
   ]
  },
  {
   "cell_type": "code",
   "execution_count": 38,
   "metadata": {},
   "outputs": [
    {
     "data": {
      "text/html": [
       "<style  type=\"text/css\" >\n",
       "    #T_a11fd17c_5214_11eb_9d64_68f728fd851drow0_col0 {\n",
       "            background-color:  #68b366;\n",
       "            color:  #000000;\n",
       "        }    #T_a11fd17c_5214_11eb_9d64_68f728fd851drow0_col1 {\n",
       "            background-color:  #ffff66;\n",
       "            color:  #000000;\n",
       "        }    #T_a11fd17c_5214_11eb_9d64_68f728fd851drow0_col2 {\n",
       "            background-color:  #cfe766;\n",
       "            color:  #000000;\n",
       "        }    #T_a11fd17c_5214_11eb_9d64_68f728fd851drow1_col0 {\n",
       "            background-color:  #ffff66;\n",
       "            color:  #000000;\n",
       "        }    #T_a11fd17c_5214_11eb_9d64_68f728fd851drow1_col1 {\n",
       "            background-color:  #d4ea66;\n",
       "            color:  #000000;\n",
       "        }    #T_a11fd17c_5214_11eb_9d64_68f728fd851drow1_col2 {\n",
       "            background-color:  #ffff66;\n",
       "            color:  #000000;\n",
       "        }    #T_a11fd17c_5214_11eb_9d64_68f728fd851drow2_col0 {\n",
       "            background-color:  #008066;\n",
       "            color:  #f1f1f1;\n",
       "        }    #T_a11fd17c_5214_11eb_9d64_68f728fd851drow2_col1 {\n",
       "            background-color:  #008066;\n",
       "            color:  #f1f1f1;\n",
       "        }    #T_a11fd17c_5214_11eb_9d64_68f728fd851drow2_col2 {\n",
       "            background-color:  #008066;\n",
       "            color:  #f1f1f1;\n",
       "        }</style><table id=\"T_a11fd17c_5214_11eb_9d64_68f728fd851d\" ><thead>    <tr>        <th class=\"index_name level0\" >class</th>        <th class=\"col_heading level0 col0\" >Negative</th>        <th class=\"col_heading level0 col1\" >Positive</th>        <th class=\"col_heading level0 col2\" >All</th>    </tr>    <tr>        <th class=\"index_name level0\" >visual blurring</th>        <th class=\"blank\" ></th>        <th class=\"blank\" ></th>        <th class=\"blank\" ></th>    </tr></thead><tbody>\n",
       "                <tr>\n",
       "                        <th id=\"T_a11fd17c_5214_11eb_9d64_68f728fd851dlevel0_row0\" class=\"row_heading level0 row0\" >No</th>\n",
       "                        <td id=\"T_a11fd17c_5214_11eb_9d64_68f728fd851drow0_col0\" class=\"data row0 col0\" >142</td>\n",
       "                        <td id=\"T_a11fd17c_5214_11eb_9d64_68f728fd851drow0_col1\" class=\"data row0 col1\" >145</td>\n",
       "                        <td id=\"T_a11fd17c_5214_11eb_9d64_68f728fd851drow0_col2\" class=\"data row0 col2\" >287</td>\n",
       "            </tr>\n",
       "            <tr>\n",
       "                        <th id=\"T_a11fd17c_5214_11eb_9d64_68f728fd851dlevel0_row1\" class=\"row_heading level0 row1\" >Yes</th>\n",
       "                        <td id=\"T_a11fd17c_5214_11eb_9d64_68f728fd851drow1_col0\" class=\"data row1 col0\" >58</td>\n",
       "                        <td id=\"T_a11fd17c_5214_11eb_9d64_68f728fd851drow1_col1\" class=\"data row1 col1\" >175</td>\n",
       "                        <td id=\"T_a11fd17c_5214_11eb_9d64_68f728fd851drow1_col2\" class=\"data row1 col2\" >233</td>\n",
       "            </tr>\n",
       "            <tr>\n",
       "                        <th id=\"T_a11fd17c_5214_11eb_9d64_68f728fd851dlevel0_row2\" class=\"row_heading level0 row2\" >All</th>\n",
       "                        <td id=\"T_a11fd17c_5214_11eb_9d64_68f728fd851drow2_col0\" class=\"data row2 col0\" >200</td>\n",
       "                        <td id=\"T_a11fd17c_5214_11eb_9d64_68f728fd851drow2_col1\" class=\"data row2 col1\" >320</td>\n",
       "                        <td id=\"T_a11fd17c_5214_11eb_9d64_68f728fd851drow2_col2\" class=\"data row2 col2\" >520</td>\n",
       "            </tr>\n",
       "    </tbody></table>"
      ],
      "text/plain": [
       "<pandas.io.formats.style.Styler at 0x1fb5866e1f0>"
      ]
     },
     "execution_count": 38,
     "metadata": {},
     "output_type": "execute_result"
    }
   ],
   "source": [
    "pd.crosstab(df['visual blurring'], df['class'], margins=True).style.background_gradient(cmap='summer_r')"
   ]
  },
  {
   "cell_type": "code",
   "execution_count": 39,
   "metadata": {},
   "outputs": [
    {
     "data": {
      "text/html": [
       "<div>\n",
       "<style scoped>\n",
       "    .dataframe tbody tr th:only-of-type {\n",
       "        vertical-align: middle;\n",
       "    }\n",
       "\n",
       "    .dataframe tbody tr th {\n",
       "        vertical-align: top;\n",
       "    }\n",
       "\n",
       "    .dataframe thead th {\n",
       "        text-align: right;\n",
       "    }\n",
       "</style>\n",
       "<table border=\"1\" class=\"dataframe\">\n",
       "  <thead>\n",
       "    <tr style=\"text-align: right;\">\n",
       "      <th></th>\n",
       "      <th></th>\n",
       "      <th>class</th>\n",
       "    </tr>\n",
       "    <tr>\n",
       "      <th>Genital thrush</th>\n",
       "      <th>class</th>\n",
       "      <th></th>\n",
       "    </tr>\n",
       "  </thead>\n",
       "  <tbody>\n",
       "    <tr>\n",
       "      <th rowspan=\"2\" valign=\"top\">No</th>\n",
       "      <th>Positive</th>\n",
       "      <td>0.586634</td>\n",
       "    </tr>\n",
       "    <tr>\n",
       "      <th>Negative</th>\n",
       "      <td>0.413366</td>\n",
       "    </tr>\n",
       "    <tr>\n",
       "      <th rowspan=\"2\" valign=\"top\">Yes</th>\n",
       "      <th>Positive</th>\n",
       "      <td>0.715517</td>\n",
       "    </tr>\n",
       "    <tr>\n",
       "      <th>Negative</th>\n",
       "      <td>0.284483</td>\n",
       "    </tr>\n",
       "  </tbody>\n",
       "</table>\n",
       "</div>"
      ],
      "text/plain": [
       "                            class\n",
       "Genital thrush class             \n",
       "No             Positive  0.586634\n",
       "               Negative  0.413366\n",
       "Yes            Positive  0.715517\n",
       "               Negative  0.284483"
      ]
     },
     "execution_count": 39,
     "metadata": {},
     "output_type": "execute_result"
    }
   ],
   "source": [
    "df.groupby(['Genital thrush'])['class'].value_counts(normalize=True).to_frame()"
   ]
  },
  {
   "cell_type": "code",
   "execution_count": 40,
   "metadata": {},
   "outputs": [
    {
     "data": {
      "text/html": [
       "<style  type=\"text/css\" >\n",
       "    #T_c3bece07_5214_11eb_8227_68f728fd851drow0_col0 {\n",
       "            background-color:  #329866;\n",
       "            color:  #000000;\n",
       "        }    #T_c3bece07_5214_11eb_8227_68f728fd851drow0_col1 {\n",
       "            background-color:  #59ac66;\n",
       "            color:  #000000;\n",
       "        }    #T_c3bece07_5214_11eb_8227_68f728fd851drow0_col2 {\n",
       "            background-color:  #49a466;\n",
       "            color:  #000000;\n",
       "        }    #T_c3bece07_5214_11eb_8227_68f728fd851drow1_col0 {\n",
       "            background-color:  #ffff66;\n",
       "            color:  #000000;\n",
       "        }    #T_c3bece07_5214_11eb_8227_68f728fd851drow1_col1 {\n",
       "            background-color:  #ffff66;\n",
       "            color:  #000000;\n",
       "        }    #T_c3bece07_5214_11eb_8227_68f728fd851drow1_col2 {\n",
       "            background-color:  #ffff66;\n",
       "            color:  #000000;\n",
       "        }    #T_c3bece07_5214_11eb_8227_68f728fd851drow2_col0 {\n",
       "            background-color:  #008066;\n",
       "            color:  #f1f1f1;\n",
       "        }    #T_c3bece07_5214_11eb_8227_68f728fd851drow2_col1 {\n",
       "            background-color:  #008066;\n",
       "            color:  #f1f1f1;\n",
       "        }    #T_c3bece07_5214_11eb_8227_68f728fd851drow2_col2 {\n",
       "            background-color:  #008066;\n",
       "            color:  #f1f1f1;\n",
       "        }</style><table id=\"T_c3bece07_5214_11eb_8227_68f728fd851d\" ><thead>    <tr>        <th class=\"index_name level0\" >class</th>        <th class=\"col_heading level0 col0\" >Negative</th>        <th class=\"col_heading level0 col1\" >Positive</th>        <th class=\"col_heading level0 col2\" >All</th>    </tr>    <tr>        <th class=\"index_name level0\" >Genital thrush</th>        <th class=\"blank\" ></th>        <th class=\"blank\" ></th>        <th class=\"blank\" ></th>    </tr></thead><tbody>\n",
       "                <tr>\n",
       "                        <th id=\"T_c3bece07_5214_11eb_8227_68f728fd851dlevel0_row0\" class=\"row_heading level0 row0\" >No</th>\n",
       "                        <td id=\"T_c3bece07_5214_11eb_8227_68f728fd851drow0_col0\" class=\"data row0 col0\" >167</td>\n",
       "                        <td id=\"T_c3bece07_5214_11eb_8227_68f728fd851drow0_col1\" class=\"data row0 col1\" >237</td>\n",
       "                        <td id=\"T_c3bece07_5214_11eb_8227_68f728fd851drow0_col2\" class=\"data row0 col2\" >404</td>\n",
       "            </tr>\n",
       "            <tr>\n",
       "                        <th id=\"T_c3bece07_5214_11eb_8227_68f728fd851dlevel0_row1\" class=\"row_heading level0 row1\" >Yes</th>\n",
       "                        <td id=\"T_c3bece07_5214_11eb_8227_68f728fd851drow1_col0\" class=\"data row1 col0\" >33</td>\n",
       "                        <td id=\"T_c3bece07_5214_11eb_8227_68f728fd851drow1_col1\" class=\"data row1 col1\" >83</td>\n",
       "                        <td id=\"T_c3bece07_5214_11eb_8227_68f728fd851drow1_col2\" class=\"data row1 col2\" >116</td>\n",
       "            </tr>\n",
       "            <tr>\n",
       "                        <th id=\"T_c3bece07_5214_11eb_8227_68f728fd851dlevel0_row2\" class=\"row_heading level0 row2\" >All</th>\n",
       "                        <td id=\"T_c3bece07_5214_11eb_8227_68f728fd851drow2_col0\" class=\"data row2 col0\" >200</td>\n",
       "                        <td id=\"T_c3bece07_5214_11eb_8227_68f728fd851drow2_col1\" class=\"data row2 col1\" >320</td>\n",
       "                        <td id=\"T_c3bece07_5214_11eb_8227_68f728fd851drow2_col2\" class=\"data row2 col2\" >520</td>\n",
       "            </tr>\n",
       "    </tbody></table>"
      ],
      "text/plain": [
       "<pandas.io.formats.style.Styler at 0x1fb58639850>"
      ]
     },
     "execution_count": 40,
     "metadata": {},
     "output_type": "execute_result"
    }
   ],
   "source": [
    "pd.crosstab(df['Genital thrush'], df['class'], margins=True).style.background_gradient(cmap='summer_r')"
   ]
  },
  {
   "cell_type": "code",
   "execution_count": 41,
   "metadata": {},
   "outputs": [
    {
     "data": {
      "text/html": [
       "<div>\n",
       "<style scoped>\n",
       "    .dataframe tbody tr th:only-of-type {\n",
       "        vertical-align: middle;\n",
       "    }\n",
       "\n",
       "    .dataframe tbody tr th {\n",
       "        vertical-align: top;\n",
       "    }\n",
       "\n",
       "    .dataframe thead th {\n",
       "        text-align: right;\n",
       "    }\n",
       "</style>\n",
       "<table border=\"1\" class=\"dataframe\">\n",
       "  <thead>\n",
       "    <tr style=\"text-align: right;\">\n",
       "      <th></th>\n",
       "      <th></th>\n",
       "      <th>class</th>\n",
       "    </tr>\n",
       "    <tr>\n",
       "      <th>Polyphagia</th>\n",
       "      <th>class</th>\n",
       "      <th></th>\n",
       "    </tr>\n",
       "  </thead>\n",
       "  <tbody>\n",
       "    <tr>\n",
       "      <th rowspan=\"2\" valign=\"top\">No</th>\n",
       "      <th>Negative</th>\n",
       "      <td>0.537102</td>\n",
       "    </tr>\n",
       "    <tr>\n",
       "      <th>Positive</th>\n",
       "      <td>0.462898</td>\n",
       "    </tr>\n",
       "    <tr>\n",
       "      <th rowspan=\"2\" valign=\"top\">Yes</th>\n",
       "      <th>Positive</th>\n",
       "      <td>0.797468</td>\n",
       "    </tr>\n",
       "    <tr>\n",
       "      <th>Negative</th>\n",
       "      <td>0.202532</td>\n",
       "    </tr>\n",
       "  </tbody>\n",
       "</table>\n",
       "</div>"
      ],
      "text/plain": [
       "                        class\n",
       "Polyphagia class             \n",
       "No         Negative  0.537102\n",
       "           Positive  0.462898\n",
       "Yes        Positive  0.797468\n",
       "           Negative  0.202532"
      ]
     },
     "execution_count": 41,
     "metadata": {},
     "output_type": "execute_result"
    }
   ],
   "source": [
    "df.groupby(['Polyphagia'])['class'].value_counts(normalize=True).to_frame()"
   ]
  },
  {
   "cell_type": "code",
   "execution_count": 42,
   "metadata": {},
   "outputs": [
    {
     "data": {
      "text/html": [
       "<style  type=\"text/css\" >\n",
       "    #T_e105799d_5214_11eb_8aa0_68f728fd851drow0_col0 {\n",
       "            background-color:  #50a866;\n",
       "            color:  #000000;\n",
       "        }    #T_e105799d_5214_11eb_8aa0_68f728fd851drow0_col1 {\n",
       "            background-color:  #ffff66;\n",
       "            color:  #000000;\n",
       "        }    #T_e105799d_5214_11eb_8aa0_68f728fd851drow0_col2 {\n",
       "            background-color:  #d6eb66;\n",
       "            color:  #000000;\n",
       "        }    #T_e105799d_5214_11eb_8aa0_68f728fd851drow1_col0 {\n",
       "            background-color:  #ffff66;\n",
       "            color:  #000000;\n",
       "        }    #T_e105799d_5214_11eb_8aa0_68f728fd851drow1_col1 {\n",
       "            background-color:  #b1d866;\n",
       "            color:  #000000;\n",
       "        }    #T_e105799d_5214_11eb_8aa0_68f728fd851drow1_col2 {\n",
       "            background-color:  #ffff66;\n",
       "            color:  #000000;\n",
       "        }    #T_e105799d_5214_11eb_8aa0_68f728fd851drow2_col0 {\n",
       "            background-color:  #008066;\n",
       "            color:  #f1f1f1;\n",
       "        }    #T_e105799d_5214_11eb_8aa0_68f728fd851drow2_col1 {\n",
       "            background-color:  #008066;\n",
       "            color:  #f1f1f1;\n",
       "        }    #T_e105799d_5214_11eb_8aa0_68f728fd851drow2_col2 {\n",
       "            background-color:  #008066;\n",
       "            color:  #f1f1f1;\n",
       "        }</style><table id=\"T_e105799d_5214_11eb_8aa0_68f728fd851d\" ><thead>    <tr>        <th class=\"index_name level0\" >class</th>        <th class=\"col_heading level0 col0\" >Negative</th>        <th class=\"col_heading level0 col1\" >Positive</th>        <th class=\"col_heading level0 col2\" >All</th>    </tr>    <tr>        <th class=\"index_name level0\" >Polyphagia</th>        <th class=\"blank\" ></th>        <th class=\"blank\" ></th>        <th class=\"blank\" ></th>    </tr></thead><tbody>\n",
       "                <tr>\n",
       "                        <th id=\"T_e105799d_5214_11eb_8aa0_68f728fd851dlevel0_row0\" class=\"row_heading level0 row0\" >No</th>\n",
       "                        <td id=\"T_e105799d_5214_11eb_8aa0_68f728fd851drow0_col0\" class=\"data row0 col0\" >152</td>\n",
       "                        <td id=\"T_e105799d_5214_11eb_8aa0_68f728fd851drow0_col1\" class=\"data row0 col1\" >131</td>\n",
       "                        <td id=\"T_e105799d_5214_11eb_8aa0_68f728fd851drow0_col2\" class=\"data row0 col2\" >283</td>\n",
       "            </tr>\n",
       "            <tr>\n",
       "                        <th id=\"T_e105799d_5214_11eb_8aa0_68f728fd851dlevel0_row1\" class=\"row_heading level0 row1\" >Yes</th>\n",
       "                        <td id=\"T_e105799d_5214_11eb_8aa0_68f728fd851drow1_col0\" class=\"data row1 col0\" >48</td>\n",
       "                        <td id=\"T_e105799d_5214_11eb_8aa0_68f728fd851drow1_col1\" class=\"data row1 col1\" >189</td>\n",
       "                        <td id=\"T_e105799d_5214_11eb_8aa0_68f728fd851drow1_col2\" class=\"data row1 col2\" >237</td>\n",
       "            </tr>\n",
       "            <tr>\n",
       "                        <th id=\"T_e105799d_5214_11eb_8aa0_68f728fd851dlevel0_row2\" class=\"row_heading level0 row2\" >All</th>\n",
       "                        <td id=\"T_e105799d_5214_11eb_8aa0_68f728fd851drow2_col0\" class=\"data row2 col0\" >200</td>\n",
       "                        <td id=\"T_e105799d_5214_11eb_8aa0_68f728fd851drow2_col1\" class=\"data row2 col1\" >320</td>\n",
       "                        <td id=\"T_e105799d_5214_11eb_8aa0_68f728fd851drow2_col2\" class=\"data row2 col2\" >520</td>\n",
       "            </tr>\n",
       "    </tbody></table>"
      ],
      "text/plain": [
       "<pandas.io.formats.style.Styler at 0x1fb5821fa90>"
      ]
     },
     "execution_count": 42,
     "metadata": {},
     "output_type": "execute_result"
    }
   ],
   "source": [
    "pd.crosstab(df['Polyphagia'], df['class'], margins=True).style.background_gradient(cmap='summer_r')"
   ]
  },
  {
   "cell_type": "code",
   "execution_count": 43,
   "metadata": {},
   "outputs": [
    {
     "data": {
      "text/html": [
       "<div>\n",
       "<style scoped>\n",
       "    .dataframe tbody tr th:only-of-type {\n",
       "        vertical-align: middle;\n",
       "    }\n",
       "\n",
       "    .dataframe tbody tr th {\n",
       "        vertical-align: top;\n",
       "    }\n",
       "\n",
       "    .dataframe thead th {\n",
       "        text-align: right;\n",
       "    }\n",
       "</style>\n",
       "<table border=\"1\" class=\"dataframe\">\n",
       "  <thead>\n",
       "    <tr style=\"text-align: right;\">\n",
       "      <th></th>\n",
       "      <th></th>\n",
       "      <th>class</th>\n",
       "    </tr>\n",
       "    <tr>\n",
       "      <th>weakness</th>\n",
       "      <th>class</th>\n",
       "      <th></th>\n",
       "    </tr>\n",
       "  </thead>\n",
       "  <tbody>\n",
       "    <tr>\n",
       "      <th rowspan=\"2\" valign=\"top\">No</th>\n",
       "      <th>Negative</th>\n",
       "      <td>0.525581</td>\n",
       "    </tr>\n",
       "    <tr>\n",
       "      <th>Positive</th>\n",
       "      <td>0.474419</td>\n",
       "    </tr>\n",
       "    <tr>\n",
       "      <th rowspan=\"2\" valign=\"top\">Yes</th>\n",
       "      <th>Positive</th>\n",
       "      <td>0.714754</td>\n",
       "    </tr>\n",
       "    <tr>\n",
       "      <th>Negative</th>\n",
       "      <td>0.285246</td>\n",
       "    </tr>\n",
       "  </tbody>\n",
       "</table>\n",
       "</div>"
      ],
      "text/plain": [
       "                      class\n",
       "weakness class             \n",
       "No       Negative  0.525581\n",
       "         Positive  0.474419\n",
       "Yes      Positive  0.714754\n",
       "         Negative  0.285246"
      ]
     },
     "execution_count": 43,
     "metadata": {},
     "output_type": "execute_result"
    }
   ],
   "source": [
    "df.groupby(['weakness'])['class'].value_counts(normalize=True).to_frame()"
   ]
  },
  {
   "cell_type": "code",
   "execution_count": 44,
   "metadata": {},
   "outputs": [
    {
     "data": {
      "text/html": [
       "<style  type=\"text/css\" >\n",
       "    #T_f13647e9_5214_11eb_a242_68f728fd851drow0_col0 {\n",
       "            background-color:  #c5e266;\n",
       "            color:  #000000;\n",
       "        }    #T_f13647e9_5214_11eb_a242_68f728fd851drow0_col1 {\n",
       "            background-color:  #ffff66;\n",
       "            color:  #000000;\n",
       "        }    #T_f13647e9_5214_11eb_a242_68f728fd851drow0_col2 {\n",
       "            background-color:  #ffff66;\n",
       "            color:  #000000;\n",
       "        }    #T_f13647e9_5214_11eb_a242_68f728fd851drow1_col0 {\n",
       "            background-color:  #ffff66;\n",
       "            color:  #000000;\n",
       "        }    #T_f13647e9_5214_11eb_a242_68f728fd851drow1_col1 {\n",
       "            background-color:  #77bb66;\n",
       "            color:  #000000;\n",
       "        }    #T_f13647e9_5214_11eb_a242_68f728fd851drow1_col2 {\n",
       "            background-color:  #b4da66;\n",
       "            color:  #000000;\n",
       "        }    #T_f13647e9_5214_11eb_a242_68f728fd851drow2_col0 {\n",
       "            background-color:  #008066;\n",
       "            color:  #f1f1f1;\n",
       "        }    #T_f13647e9_5214_11eb_a242_68f728fd851drow2_col1 {\n",
       "            background-color:  #008066;\n",
       "            color:  #f1f1f1;\n",
       "        }    #T_f13647e9_5214_11eb_a242_68f728fd851drow2_col2 {\n",
       "            background-color:  #008066;\n",
       "            color:  #f1f1f1;\n",
       "        }</style><table id=\"T_f13647e9_5214_11eb_a242_68f728fd851d\" ><thead>    <tr>        <th class=\"index_name level0\" >class</th>        <th class=\"col_heading level0 col0\" >Negative</th>        <th class=\"col_heading level0 col1\" >Positive</th>        <th class=\"col_heading level0 col2\" >All</th>    </tr>    <tr>        <th class=\"index_name level0\" >weakness</th>        <th class=\"blank\" ></th>        <th class=\"blank\" ></th>        <th class=\"blank\" ></th>    </tr></thead><tbody>\n",
       "                <tr>\n",
       "                        <th id=\"T_f13647e9_5214_11eb_a242_68f728fd851dlevel0_row0\" class=\"row_heading level0 row0\" >No</th>\n",
       "                        <td id=\"T_f13647e9_5214_11eb_a242_68f728fd851drow0_col0\" class=\"data row0 col0\" >113</td>\n",
       "                        <td id=\"T_f13647e9_5214_11eb_a242_68f728fd851drow0_col1\" class=\"data row0 col1\" >102</td>\n",
       "                        <td id=\"T_f13647e9_5214_11eb_a242_68f728fd851drow0_col2\" class=\"data row0 col2\" >215</td>\n",
       "            </tr>\n",
       "            <tr>\n",
       "                        <th id=\"T_f13647e9_5214_11eb_a242_68f728fd851dlevel0_row1\" class=\"row_heading level0 row1\" >Yes</th>\n",
       "                        <td id=\"T_f13647e9_5214_11eb_a242_68f728fd851drow1_col0\" class=\"data row1 col0\" >87</td>\n",
       "                        <td id=\"T_f13647e9_5214_11eb_a242_68f728fd851drow1_col1\" class=\"data row1 col1\" >218</td>\n",
       "                        <td id=\"T_f13647e9_5214_11eb_a242_68f728fd851drow1_col2\" class=\"data row1 col2\" >305</td>\n",
       "            </tr>\n",
       "            <tr>\n",
       "                        <th id=\"T_f13647e9_5214_11eb_a242_68f728fd851dlevel0_row2\" class=\"row_heading level0 row2\" >All</th>\n",
       "                        <td id=\"T_f13647e9_5214_11eb_a242_68f728fd851drow2_col0\" class=\"data row2 col0\" >200</td>\n",
       "                        <td id=\"T_f13647e9_5214_11eb_a242_68f728fd851drow2_col1\" class=\"data row2 col1\" >320</td>\n",
       "                        <td id=\"T_f13647e9_5214_11eb_a242_68f728fd851drow2_col2\" class=\"data row2 col2\" >520</td>\n",
       "            </tr>\n",
       "    </tbody></table>"
      ],
      "text/plain": [
       "<pandas.io.formats.style.Styler at 0x1fb5864aeb0>"
      ]
     },
     "execution_count": 44,
     "metadata": {},
     "output_type": "execute_result"
    }
   ],
   "source": [
    "pd.crosstab(df['weakness'], df['class'], margins=True).style.background_gradient(cmap='summer_r')"
   ]
  },
  {
   "cell_type": "code",
   "execution_count": 45,
   "metadata": {},
   "outputs": [
    {
     "data": {
      "text/html": [
       "<div>\n",
       "<style scoped>\n",
       "    .dataframe tbody tr th:only-of-type {\n",
       "        vertical-align: middle;\n",
       "    }\n",
       "\n",
       "    .dataframe tbody tr th {\n",
       "        vertical-align: top;\n",
       "    }\n",
       "\n",
       "    .dataframe thead th {\n",
       "        text-align: right;\n",
       "    }\n",
       "</style>\n",
       "<table border=\"1\" class=\"dataframe\">\n",
       "  <thead>\n",
       "    <tr style=\"text-align: right;\">\n",
       "      <th></th>\n",
       "      <th></th>\n",
       "      <th>class</th>\n",
       "    </tr>\n",
       "    <tr>\n",
       "      <th>sudden weight loss</th>\n",
       "      <th>class</th>\n",
       "      <th></th>\n",
       "    </tr>\n",
       "  </thead>\n",
       "  <tbody>\n",
       "    <tr>\n",
       "      <th rowspan=\"2\" valign=\"top\">No</th>\n",
       "      <th>Negative</th>\n",
       "      <td>0.564356</td>\n",
       "    </tr>\n",
       "    <tr>\n",
       "      <th>Positive</th>\n",
       "      <td>0.435644</td>\n",
       "    </tr>\n",
       "    <tr>\n",
       "      <th rowspan=\"2\" valign=\"top\">Yes</th>\n",
       "      <th>Positive</th>\n",
       "      <td>0.866359</td>\n",
       "    </tr>\n",
       "    <tr>\n",
       "      <th>Negative</th>\n",
       "      <td>0.133641</td>\n",
       "    </tr>\n",
       "  </tbody>\n",
       "</table>\n",
       "</div>"
      ],
      "text/plain": [
       "                                class\n",
       "sudden weight loss class             \n",
       "No                 Negative  0.564356\n",
       "                   Positive  0.435644\n",
       "Yes                Positive  0.866359\n",
       "                   Negative  0.133641"
      ]
     },
     "execution_count": 45,
     "metadata": {},
     "output_type": "execute_result"
    }
   ],
   "source": [
    "df.groupby(['sudden weight loss'])['class'].value_counts(normalize=True).to_frame()"
   ]
  },
  {
   "cell_type": "code",
   "execution_count": 46,
   "metadata": {},
   "outputs": [
    {
     "data": {
      "text/html": [
       "<style  type=\"text/css\" >\n",
       "    #T_206f21c8_5215_11eb_b129_68f728fd851drow0_col0 {\n",
       "            background-color:  #2b9566;\n",
       "            color:  #000000;\n",
       "        }    #T_206f21c8_5215_11eb_b129_68f728fd851drow0_col1 {\n",
       "            background-color:  #ffff66;\n",
       "            color:  #000000;\n",
       "        }    #T_206f21c8_5215_11eb_b129_68f728fd851drow0_col2 {\n",
       "            background-color:  #b7db66;\n",
       "            color:  #000000;\n",
       "        }    #T_206f21c8_5215_11eb_b129_68f728fd851drow1_col0 {\n",
       "            background-color:  #ffff66;\n",
       "            color:  #000000;\n",
       "        }    #T_206f21c8_5215_11eb_b129_68f728fd851drow1_col1 {\n",
       "            background-color:  #b3d966;\n",
       "            color:  #000000;\n",
       "        }    #T_206f21c8_5215_11eb_b129_68f728fd851drow1_col2 {\n",
       "            background-color:  #ffff66;\n",
       "            color:  #000000;\n",
       "        }    #T_206f21c8_5215_11eb_b129_68f728fd851drow2_col0 {\n",
       "            background-color:  #008066;\n",
       "            color:  #f1f1f1;\n",
       "        }    #T_206f21c8_5215_11eb_b129_68f728fd851drow2_col1 {\n",
       "            background-color:  #008066;\n",
       "            color:  #f1f1f1;\n",
       "        }    #T_206f21c8_5215_11eb_b129_68f728fd851drow2_col2 {\n",
       "            background-color:  #008066;\n",
       "            color:  #f1f1f1;\n",
       "        }</style><table id=\"T_206f21c8_5215_11eb_b129_68f728fd851d\" ><thead>    <tr>        <th class=\"index_name level0\" >class</th>        <th class=\"col_heading level0 col0\" >Negative</th>        <th class=\"col_heading level0 col1\" >Positive</th>        <th class=\"col_heading level0 col2\" >All</th>    </tr>    <tr>        <th class=\"index_name level0\" >sudden weight loss</th>        <th class=\"blank\" ></th>        <th class=\"blank\" ></th>        <th class=\"blank\" ></th>    </tr></thead><tbody>\n",
       "                <tr>\n",
       "                        <th id=\"T_206f21c8_5215_11eb_b129_68f728fd851dlevel0_row0\" class=\"row_heading level0 row0\" >No</th>\n",
       "                        <td id=\"T_206f21c8_5215_11eb_b129_68f728fd851drow0_col0\" class=\"data row0 col0\" >171</td>\n",
       "                        <td id=\"T_206f21c8_5215_11eb_b129_68f728fd851drow0_col1\" class=\"data row0 col1\" >132</td>\n",
       "                        <td id=\"T_206f21c8_5215_11eb_b129_68f728fd851drow0_col2\" class=\"data row0 col2\" >303</td>\n",
       "            </tr>\n",
       "            <tr>\n",
       "                        <th id=\"T_206f21c8_5215_11eb_b129_68f728fd851dlevel0_row1\" class=\"row_heading level0 row1\" >Yes</th>\n",
       "                        <td id=\"T_206f21c8_5215_11eb_b129_68f728fd851drow1_col0\" class=\"data row1 col0\" >29</td>\n",
       "                        <td id=\"T_206f21c8_5215_11eb_b129_68f728fd851drow1_col1\" class=\"data row1 col1\" >188</td>\n",
       "                        <td id=\"T_206f21c8_5215_11eb_b129_68f728fd851drow1_col2\" class=\"data row1 col2\" >217</td>\n",
       "            </tr>\n",
       "            <tr>\n",
       "                        <th id=\"T_206f21c8_5215_11eb_b129_68f728fd851dlevel0_row2\" class=\"row_heading level0 row2\" >All</th>\n",
       "                        <td id=\"T_206f21c8_5215_11eb_b129_68f728fd851drow2_col0\" class=\"data row2 col0\" >200</td>\n",
       "                        <td id=\"T_206f21c8_5215_11eb_b129_68f728fd851drow2_col1\" class=\"data row2 col1\" >320</td>\n",
       "                        <td id=\"T_206f21c8_5215_11eb_b129_68f728fd851drow2_col2\" class=\"data row2 col2\" >520</td>\n",
       "            </tr>\n",
       "    </tbody></table>"
      ],
      "text/plain": [
       "<pandas.io.formats.style.Styler at 0x1fb58639460>"
      ]
     },
     "execution_count": 46,
     "metadata": {},
     "output_type": "execute_result"
    }
   ],
   "source": [
    "pd.crosstab(df['sudden weight loss'], df['class'], margins=True).style.background_gradient(cmap='summer_r')"
   ]
  },
  {
   "cell_type": "code",
   "execution_count": 47,
   "metadata": {},
   "outputs": [
    {
     "data": {
      "text/html": [
       "<div>\n",
       "<style scoped>\n",
       "    .dataframe tbody tr th:only-of-type {\n",
       "        vertical-align: middle;\n",
       "    }\n",
       "\n",
       "    .dataframe tbody tr th {\n",
       "        vertical-align: top;\n",
       "    }\n",
       "\n",
       "    .dataframe thead th {\n",
       "        text-align: right;\n",
       "    }\n",
       "</style>\n",
       "<table border=\"1\" class=\"dataframe\">\n",
       "  <thead>\n",
       "    <tr style=\"text-align: right;\">\n",
       "      <th></th>\n",
       "      <th></th>\n",
       "      <th>class</th>\n",
       "    </tr>\n",
       "    <tr>\n",
       "      <th>Polydipsia</th>\n",
       "      <th>class</th>\n",
       "      <th></th>\n",
       "    </tr>\n",
       "  </thead>\n",
       "  <tbody>\n",
       "    <tr>\n",
       "      <th rowspan=\"2\" valign=\"top\">No</th>\n",
       "      <th>Negative</th>\n",
       "      <td>0.668990</td>\n",
       "    </tr>\n",
       "    <tr>\n",
       "      <th>Positive</th>\n",
       "      <td>0.331010</td>\n",
       "    </tr>\n",
       "    <tr>\n",
       "      <th rowspan=\"2\" valign=\"top\">Yes</th>\n",
       "      <th>Positive</th>\n",
       "      <td>0.965665</td>\n",
       "    </tr>\n",
       "    <tr>\n",
       "      <th>Negative</th>\n",
       "      <td>0.034335</td>\n",
       "    </tr>\n",
       "  </tbody>\n",
       "</table>\n",
       "</div>"
      ],
      "text/plain": [
       "                        class\n",
       "Polydipsia class             \n",
       "No         Negative  0.668990\n",
       "           Positive  0.331010\n",
       "Yes        Positive  0.965665\n",
       "           Negative  0.034335"
      ]
     },
     "execution_count": 47,
     "metadata": {},
     "output_type": "execute_result"
    }
   ],
   "source": [
    "df.groupby(['Polydipsia'])['class'].value_counts(normalize=True).to_frame()"
   ]
  },
  {
   "cell_type": "code",
   "execution_count": 48,
   "metadata": {},
   "outputs": [
    {
     "data": {
      "text/html": [
       "<style  type=\"text/css\" >\n",
       "    #T_931df72b_5215_11eb_8613_68f728fd851drow0_col0 {\n",
       "            background-color:  #0a8466;\n",
       "            color:  #f1f1f1;\n",
       "        }    #T_931df72b_5215_11eb_8613_68f728fd851drow0_col1 {\n",
       "            background-color:  #ffff66;\n",
       "            color:  #000000;\n",
       "        }    #T_931df72b_5215_11eb_8613_68f728fd851drow0_col2 {\n",
       "            background-color:  #cfe766;\n",
       "            color:  #000000;\n",
       "        }    #T_931df72b_5215_11eb_8613_68f728fd851drow1_col0 {\n",
       "            background-color:  #ffff66;\n",
       "            color:  #000000;\n",
       "        }    #T_931df72b_5215_11eb_8613_68f728fd851drow1_col1 {\n",
       "            background-color:  #6cb666;\n",
       "            color:  #000000;\n",
       "        }    #T_931df72b_5215_11eb_8613_68f728fd851drow1_col2 {\n",
       "            background-color:  #ffff66;\n",
       "            color:  #000000;\n",
       "        }    #T_931df72b_5215_11eb_8613_68f728fd851drow2_col0 {\n",
       "            background-color:  #008066;\n",
       "            color:  #f1f1f1;\n",
       "        }    #T_931df72b_5215_11eb_8613_68f728fd851drow2_col1 {\n",
       "            background-color:  #008066;\n",
       "            color:  #f1f1f1;\n",
       "        }    #T_931df72b_5215_11eb_8613_68f728fd851drow2_col2 {\n",
       "            background-color:  #008066;\n",
       "            color:  #f1f1f1;\n",
       "        }</style><table id=\"T_931df72b_5215_11eb_8613_68f728fd851d\" ><thead>    <tr>        <th class=\"index_name level0\" >class</th>        <th class=\"col_heading level0 col0\" >Negative</th>        <th class=\"col_heading level0 col1\" >Positive</th>        <th class=\"col_heading level0 col2\" >All</th>    </tr>    <tr>        <th class=\"index_name level0\" >Polydipsia</th>        <th class=\"blank\" ></th>        <th class=\"blank\" ></th>        <th class=\"blank\" ></th>    </tr></thead><tbody>\n",
       "                <tr>\n",
       "                        <th id=\"T_931df72b_5215_11eb_8613_68f728fd851dlevel0_row0\" class=\"row_heading level0 row0\" >No</th>\n",
       "                        <td id=\"T_931df72b_5215_11eb_8613_68f728fd851drow0_col0\" class=\"data row0 col0\" >192</td>\n",
       "                        <td id=\"T_931df72b_5215_11eb_8613_68f728fd851drow0_col1\" class=\"data row0 col1\" >95</td>\n",
       "                        <td id=\"T_931df72b_5215_11eb_8613_68f728fd851drow0_col2\" class=\"data row0 col2\" >287</td>\n",
       "            </tr>\n",
       "            <tr>\n",
       "                        <th id=\"T_931df72b_5215_11eb_8613_68f728fd851dlevel0_row1\" class=\"row_heading level0 row1\" >Yes</th>\n",
       "                        <td id=\"T_931df72b_5215_11eb_8613_68f728fd851drow1_col0\" class=\"data row1 col0\" >8</td>\n",
       "                        <td id=\"T_931df72b_5215_11eb_8613_68f728fd851drow1_col1\" class=\"data row1 col1\" >225</td>\n",
       "                        <td id=\"T_931df72b_5215_11eb_8613_68f728fd851drow1_col2\" class=\"data row1 col2\" >233</td>\n",
       "            </tr>\n",
       "            <tr>\n",
       "                        <th id=\"T_931df72b_5215_11eb_8613_68f728fd851dlevel0_row2\" class=\"row_heading level0 row2\" >All</th>\n",
       "                        <td id=\"T_931df72b_5215_11eb_8613_68f728fd851drow2_col0\" class=\"data row2 col0\" >200</td>\n",
       "                        <td id=\"T_931df72b_5215_11eb_8613_68f728fd851drow2_col1\" class=\"data row2 col1\" >320</td>\n",
       "                        <td id=\"T_931df72b_5215_11eb_8613_68f728fd851drow2_col2\" class=\"data row2 col2\" >520</td>\n",
       "            </tr>\n",
       "    </tbody></table>"
      ],
      "text/plain": [
       "<pandas.io.formats.style.Styler at 0x1fb586b38b0>"
      ]
     },
     "execution_count": 48,
     "metadata": {},
     "output_type": "execute_result"
    }
   ],
   "source": [
    "pd.crosstab(df['Polydipsia'], df['class'], margins=True).style.background_gradient(cmap='summer_r')"
   ]
  },
  {
   "cell_type": "code",
   "execution_count": 49,
   "metadata": {},
   "outputs": [
    {
     "data": {
      "text/html": [
       "<div>\n",
       "<style scoped>\n",
       "    .dataframe tbody tr th:only-of-type {\n",
       "        vertical-align: middle;\n",
       "    }\n",
       "\n",
       "    .dataframe tbody tr th {\n",
       "        vertical-align: top;\n",
       "    }\n",
       "\n",
       "    .dataframe thead th {\n",
       "        text-align: right;\n",
       "    }\n",
       "</style>\n",
       "<table border=\"1\" class=\"dataframe\">\n",
       "  <thead>\n",
       "    <tr style=\"text-align: right;\">\n",
       "      <th></th>\n",
       "      <th></th>\n",
       "      <th>class</th>\n",
       "    </tr>\n",
       "    <tr>\n",
       "      <th>Polyuria</th>\n",
       "      <th>class</th>\n",
       "      <th></th>\n",
       "    </tr>\n",
       "  </thead>\n",
       "  <tbody>\n",
       "    <tr>\n",
       "      <th rowspan=\"2\" valign=\"top\">No</th>\n",
       "      <th>Negative</th>\n",
       "      <td>0.706107</td>\n",
       "    </tr>\n",
       "    <tr>\n",
       "      <th>Positive</th>\n",
       "      <td>0.293893</td>\n",
       "    </tr>\n",
       "    <tr>\n",
       "      <th rowspan=\"2\" valign=\"top\">Yes</th>\n",
       "      <th>Positive</th>\n",
       "      <td>0.941860</td>\n",
       "    </tr>\n",
       "    <tr>\n",
       "      <th>Negative</th>\n",
       "      <td>0.058140</td>\n",
       "    </tr>\n",
       "  </tbody>\n",
       "</table>\n",
       "</div>"
      ],
      "text/plain": [
       "                      class\n",
       "Polyuria class             \n",
       "No       Negative  0.706107\n",
       "         Positive  0.293893\n",
       "Yes      Positive  0.941860\n",
       "         Negative  0.058140"
      ]
     },
     "execution_count": 49,
     "metadata": {},
     "output_type": "execute_result"
    }
   ],
   "source": [
    "df.groupby(['Polyuria'])['class'].value_counts(normalize=True).to_frame()"
   ]
  },
  {
   "cell_type": "code",
   "execution_count": 50,
   "metadata": {},
   "outputs": [
    {
     "data": {
      "text/html": [
       "<style  type=\"text/css\" >\n",
       "    #T_b1942ed6_5215_11eb_bba2_68f728fd851drow0_col0 {\n",
       "            background-color:  #148a66;\n",
       "            color:  #000000;\n",
       "        }    #T_b1942ed6_5215_11eb_bba2_68f728fd851drow0_col1 {\n",
       "            background-color:  #ffff66;\n",
       "            color:  #000000;\n",
       "        }    #T_b1942ed6_5215_11eb_bba2_68f728fd851drow0_col2 {\n",
       "            background-color:  #fcfe66;\n",
       "            color:  #000000;\n",
       "        }    #T_b1942ed6_5215_11eb_bba2_68f728fd851drow1_col0 {\n",
       "            background-color:  #ffff66;\n",
       "            color:  #000000;\n",
       "        }    #T_b1942ed6_5215_11eb_bba2_68f728fd851drow1_col1 {\n",
       "            background-color:  #51a866;\n",
       "            color:  #000000;\n",
       "        }    #T_b1942ed6_5215_11eb_bba2_68f728fd851drow1_col2 {\n",
       "            background-color:  #ffff66;\n",
       "            color:  #000000;\n",
       "        }    #T_b1942ed6_5215_11eb_bba2_68f728fd851drow2_col0 {\n",
       "            background-color:  #008066;\n",
       "            color:  #f1f1f1;\n",
       "        }    #T_b1942ed6_5215_11eb_bba2_68f728fd851drow2_col1 {\n",
       "            background-color:  #008066;\n",
       "            color:  #f1f1f1;\n",
       "        }    #T_b1942ed6_5215_11eb_bba2_68f728fd851drow2_col2 {\n",
       "            background-color:  #008066;\n",
       "            color:  #f1f1f1;\n",
       "        }</style><table id=\"T_b1942ed6_5215_11eb_bba2_68f728fd851d\" ><thead>    <tr>        <th class=\"index_name level0\" >class</th>        <th class=\"col_heading level0 col0\" >Negative</th>        <th class=\"col_heading level0 col1\" >Positive</th>        <th class=\"col_heading level0 col2\" >All</th>    </tr>    <tr>        <th class=\"index_name level0\" >Polyuria</th>        <th class=\"blank\" ></th>        <th class=\"blank\" ></th>        <th class=\"blank\" ></th>    </tr></thead><tbody>\n",
       "                <tr>\n",
       "                        <th id=\"T_b1942ed6_5215_11eb_bba2_68f728fd851dlevel0_row0\" class=\"row_heading level0 row0\" >No</th>\n",
       "                        <td id=\"T_b1942ed6_5215_11eb_bba2_68f728fd851drow0_col0\" class=\"data row0 col0\" >185</td>\n",
       "                        <td id=\"T_b1942ed6_5215_11eb_bba2_68f728fd851drow0_col1\" class=\"data row0 col1\" >77</td>\n",
       "                        <td id=\"T_b1942ed6_5215_11eb_bba2_68f728fd851drow0_col2\" class=\"data row0 col2\" >262</td>\n",
       "            </tr>\n",
       "            <tr>\n",
       "                        <th id=\"T_b1942ed6_5215_11eb_bba2_68f728fd851dlevel0_row1\" class=\"row_heading level0 row1\" >Yes</th>\n",
       "                        <td id=\"T_b1942ed6_5215_11eb_bba2_68f728fd851drow1_col0\" class=\"data row1 col0\" >15</td>\n",
       "                        <td id=\"T_b1942ed6_5215_11eb_bba2_68f728fd851drow1_col1\" class=\"data row1 col1\" >243</td>\n",
       "                        <td id=\"T_b1942ed6_5215_11eb_bba2_68f728fd851drow1_col2\" class=\"data row1 col2\" >258</td>\n",
       "            </tr>\n",
       "            <tr>\n",
       "                        <th id=\"T_b1942ed6_5215_11eb_bba2_68f728fd851dlevel0_row2\" class=\"row_heading level0 row2\" >All</th>\n",
       "                        <td id=\"T_b1942ed6_5215_11eb_bba2_68f728fd851drow2_col0\" class=\"data row2 col0\" >200</td>\n",
       "                        <td id=\"T_b1942ed6_5215_11eb_bba2_68f728fd851drow2_col1\" class=\"data row2 col1\" >320</td>\n",
       "                        <td id=\"T_b1942ed6_5215_11eb_bba2_68f728fd851drow2_col2\" class=\"data row2 col2\" >520</td>\n",
       "            </tr>\n",
       "    </tbody></table>"
      ],
      "text/plain": [
       "<pandas.io.formats.style.Styler at 0x1fb586bebb0>"
      ]
     },
     "execution_count": 50,
     "metadata": {},
     "output_type": "execute_result"
    }
   ],
   "source": [
    "pd.crosstab(df['Polyuria'], df['class'], margins=True).style.background_gradient(cmap='summer_r')"
   ]
  },
  {
   "cell_type": "markdown",
   "metadata": {},
   "source": [
    "<h1>Data Engineering/Cleaning"
   ]
  },
  {
   "cell_type": "code",
   "execution_count": 28,
   "metadata": {},
   "outputs": [],
   "source": [
    "numeric_feats = df.dtypes[df.dtypes != \"object\"].index\n",
    "\n",
    "from sklearn.preprocessing import StandardScaler\n",
    "scaler = StandardScaler()\n",
    "df[numeric_feats] = scaler.fit_transform(df[numeric_feats])      #standardscaler transform the Age column"
   ]
  },
  {
   "cell_type": "code",
   "execution_count": 29,
   "metadata": {},
   "outputs": [],
   "source": [
    "df['class'] = df['class'].replace({'Negative': 0, 'Positive': 1})  #replace string to binary 0/1\n",
    "df['Gender'] = df['Gender'].replace({'Male': 0, 'Female': 1})\n",
    "df['Polyuria'] = df['Polyuria'].replace({'Yes': 1, 'No': 0})\n",
    "df['Polydipsia'] = df['Polydipsia'].replace({'Yes': 1, 'No': 0})\n",
    "df['sudden weight loss'] = df['sudden weight loss'].replace({'Yes': 1, 'No': 0})\n",
    "df['weakness'] = df['weakness'].replace({'Yes': 1, 'No': 0})\n",
    "df['Polyphagia'] = df['Polyphagia'].replace({'Yes': 1, 'No': 0})\n",
    "df['Genital thrush'] = df['Genital thrush'].replace({'Yes': 1, 'No': 0})\n",
    "df['visual blurring'] = df['visual blurring'].replace({'Yes': 1, 'No': 0})\n",
    "df['Irritability'] = df['Irritability'].replace({'Yes': 1, 'No': 0})\n",
    "df['partial paresis'] = df['partial paresis'].replace({'Yes': 1, 'No': 0})\n",
    "df['muscle stiffness'] = df['muscle stiffness'].replace({'Yes': 1, 'No': 0})\n",
    "df['Alopecia'] = df['Alopecia'].replace({'Yes': 1, 'No': 0})\n",
    "df['Obesity'] = df['Obesity'].replace({'Yes': 1, 'No': 0})"
   ]
  },
  {
   "cell_type": "code",
   "execution_count": 30,
   "metadata": {},
   "outputs": [],
   "source": [
    "df_train = df.sample(frac = 0.8)    #train/cross-val\n",
    "df_test = df.drop(df_train.index)   #test"
   ]
  },
  {
   "cell_type": "code",
   "execution_count": 31,
   "metadata": {},
   "outputs": [
    {
     "data": {
      "text/html": [
       "<div>\n",
       "<style scoped>\n",
       "    .dataframe tbody tr th:only-of-type {\n",
       "        vertical-align: middle;\n",
       "    }\n",
       "\n",
       "    .dataframe tbody tr th {\n",
       "        vertical-align: top;\n",
       "    }\n",
       "\n",
       "    .dataframe thead th {\n",
       "        text-align: right;\n",
       "    }\n",
       "</style>\n",
       "<table border=\"1\" class=\"dataframe\">\n",
       "  <thead>\n",
       "    <tr style=\"text-align: right;\">\n",
       "      <th></th>\n",
       "      <th>Age</th>\n",
       "      <th>Gender</th>\n",
       "      <th>Polyuria</th>\n",
       "      <th>Polydipsia</th>\n",
       "      <th>sudden weight loss</th>\n",
       "      <th>weakness</th>\n",
       "      <th>Polyphagia</th>\n",
       "      <th>Genital thrush</th>\n",
       "      <th>visual blurring</th>\n",
       "      <th>Irritability</th>\n",
       "      <th>partial paresis</th>\n",
       "      <th>muscle stiffness</th>\n",
       "      <th>Alopecia</th>\n",
       "      <th>Obesity</th>\n",
       "    </tr>\n",
       "  </thead>\n",
       "  <tbody>\n",
       "    <tr>\n",
       "      <th>18</th>\n",
       "      <td>1.480353</td>\n",
       "      <td>0</td>\n",
       "      <td>1</td>\n",
       "      <td>1</td>\n",
       "      <td>0</td>\n",
       "      <td>1</td>\n",
       "      <td>1</td>\n",
       "      <td>0</td>\n",
       "      <td>1</td>\n",
       "      <td>0</td>\n",
       "      <td>1</td>\n",
       "      <td>1</td>\n",
       "      <td>0</td>\n",
       "      <td>0</td>\n",
       "    </tr>\n",
       "    <tr>\n",
       "      <th>426</th>\n",
       "      <td>0.491867</td>\n",
       "      <td>0</td>\n",
       "      <td>1</td>\n",
       "      <td>1</td>\n",
       "      <td>1</td>\n",
       "      <td>1</td>\n",
       "      <td>1</td>\n",
       "      <td>1</td>\n",
       "      <td>1</td>\n",
       "      <td>0</td>\n",
       "      <td>0</td>\n",
       "      <td>1</td>\n",
       "      <td>1</td>\n",
       "      <td>0</td>\n",
       "    </tr>\n",
       "    <tr>\n",
       "      <th>307</th>\n",
       "      <td>-0.908488</td>\n",
       "      <td>0</td>\n",
       "      <td>0</td>\n",
       "      <td>0</td>\n",
       "      <td>0</td>\n",
       "      <td>0</td>\n",
       "      <td>0</td>\n",
       "      <td>0</td>\n",
       "      <td>0</td>\n",
       "      <td>0</td>\n",
       "      <td>0</td>\n",
       "      <td>0</td>\n",
       "      <td>0</td>\n",
       "      <td>0</td>\n",
       "    </tr>\n",
       "    <tr>\n",
       "      <th>518</th>\n",
       "      <td>-1.320358</td>\n",
       "      <td>1</td>\n",
       "      <td>0</td>\n",
       "      <td>0</td>\n",
       "      <td>0</td>\n",
       "      <td>1</td>\n",
       "      <td>0</td>\n",
       "      <td>0</td>\n",
       "      <td>1</td>\n",
       "      <td>0</td>\n",
       "      <td>0</td>\n",
       "      <td>0</td>\n",
       "      <td>1</td>\n",
       "      <td>0</td>\n",
       "    </tr>\n",
       "    <tr>\n",
       "      <th>332</th>\n",
       "      <td>0.162372</td>\n",
       "      <td>1</td>\n",
       "      <td>0</td>\n",
       "      <td>0</td>\n",
       "      <td>0</td>\n",
       "      <td>1</td>\n",
       "      <td>0</td>\n",
       "      <td>0</td>\n",
       "      <td>1</td>\n",
       "      <td>0</td>\n",
       "      <td>0</td>\n",
       "      <td>0</td>\n",
       "      <td>1</td>\n",
       "      <td>0</td>\n",
       "    </tr>\n",
       "    <tr>\n",
       "      <th>...</th>\n",
       "      <td>...</td>\n",
       "      <td>...</td>\n",
       "      <td>...</td>\n",
       "      <td>...</td>\n",
       "      <td>...</td>\n",
       "      <td>...</td>\n",
       "      <td>...</td>\n",
       "      <td>...</td>\n",
       "      <td>...</td>\n",
       "      <td>...</td>\n",
       "      <td>...</td>\n",
       "      <td>...</td>\n",
       "      <td>...</td>\n",
       "      <td>...</td>\n",
       "    </tr>\n",
       "    <tr>\n",
       "      <th>447</th>\n",
       "      <td>0.162372</td>\n",
       "      <td>1</td>\n",
       "      <td>0</td>\n",
       "      <td>1</td>\n",
       "      <td>0</td>\n",
       "      <td>1</td>\n",
       "      <td>1</td>\n",
       "      <td>0</td>\n",
       "      <td>1</td>\n",
       "      <td>1</td>\n",
       "      <td>1</td>\n",
       "      <td>1</td>\n",
       "      <td>0</td>\n",
       "      <td>0</td>\n",
       "    </tr>\n",
       "    <tr>\n",
       "      <th>291</th>\n",
       "      <td>-1.485105</td>\n",
       "      <td>0</td>\n",
       "      <td>0</td>\n",
       "      <td>0</td>\n",
       "      <td>0</td>\n",
       "      <td>0</td>\n",
       "      <td>0</td>\n",
       "      <td>0</td>\n",
       "      <td>0</td>\n",
       "      <td>0</td>\n",
       "      <td>0</td>\n",
       "      <td>0</td>\n",
       "      <td>0</td>\n",
       "      <td>0</td>\n",
       "    </tr>\n",
       "    <tr>\n",
       "      <th>175</th>\n",
       "      <td>-1.485105</td>\n",
       "      <td>1</td>\n",
       "      <td>1</td>\n",
       "      <td>0</td>\n",
       "      <td>1</td>\n",
       "      <td>1</td>\n",
       "      <td>1</td>\n",
       "      <td>0</td>\n",
       "      <td>0</td>\n",
       "      <td>0</td>\n",
       "      <td>0</td>\n",
       "      <td>0</td>\n",
       "      <td>0</td>\n",
       "      <td>0</td>\n",
       "    </tr>\n",
       "    <tr>\n",
       "      <th>387</th>\n",
       "      <td>-0.990862</td>\n",
       "      <td>0</td>\n",
       "      <td>0</td>\n",
       "      <td>0</td>\n",
       "      <td>0</td>\n",
       "      <td>0</td>\n",
       "      <td>0</td>\n",
       "      <td>0</td>\n",
       "      <td>0</td>\n",
       "      <td>0</td>\n",
       "      <td>0</td>\n",
       "      <td>0</td>\n",
       "      <td>0</td>\n",
       "      <td>0</td>\n",
       "    </tr>\n",
       "    <tr>\n",
       "      <th>440</th>\n",
       "      <td>-0.002376</td>\n",
       "      <td>0</td>\n",
       "      <td>1</td>\n",
       "      <td>1</td>\n",
       "      <td>0</td>\n",
       "      <td>1</td>\n",
       "      <td>0</td>\n",
       "      <td>1</td>\n",
       "      <td>1</td>\n",
       "      <td>0</td>\n",
       "      <td>0</td>\n",
       "      <td>0</td>\n",
       "      <td>0</td>\n",
       "      <td>0</td>\n",
       "    </tr>\n",
       "  </tbody>\n",
       "</table>\n",
       "<p>416 rows × 14 columns</p>\n",
       "</div>"
      ],
      "text/plain": [
       "          Age  Gender  Polyuria  Polydipsia  sudden weight loss  weakness  \\\n",
       "18   1.480353       0         1           1                   0         1   \n",
       "426  0.491867       0         1           1                   1         1   \n",
       "307 -0.908488       0         0           0                   0         0   \n",
       "518 -1.320358       1         0           0                   0         1   \n",
       "332  0.162372       1         0           0                   0         1   \n",
       "..        ...     ...       ...         ...                 ...       ...   \n",
       "447  0.162372       1         0           1                   0         1   \n",
       "291 -1.485105       0         0           0                   0         0   \n",
       "175 -1.485105       1         1           0                   1         1   \n",
       "387 -0.990862       0         0           0                   0         0   \n",
       "440 -0.002376       0         1           1                   0         1   \n",
       "\n",
       "     Polyphagia  Genital thrush  visual blurring  Irritability  \\\n",
       "18            1               0                1             0   \n",
       "426           1               1                1             0   \n",
       "307           0               0                0             0   \n",
       "518           0               0                1             0   \n",
       "332           0               0                1             0   \n",
       "..          ...             ...              ...           ...   \n",
       "447           1               0                1             1   \n",
       "291           0               0                0             0   \n",
       "175           1               0                0             0   \n",
       "387           0               0                0             0   \n",
       "440           0               1                1             0   \n",
       "\n",
       "     partial paresis  muscle stiffness  Alopecia  Obesity  \n",
       "18                 1                 1         0        0  \n",
       "426                0                 1         1        0  \n",
       "307                0                 0         0        0  \n",
       "518                0                 0         1        0  \n",
       "332                0                 0         1        0  \n",
       "..               ...               ...       ...      ...  \n",
       "447                1                 1         0        0  \n",
       "291                0                 0         0        0  \n",
       "175                0                 0         0        0  \n",
       "387                0                 0         0        0  \n",
       "440                0                 0         0        0  \n",
       "\n",
       "[416 rows x 14 columns]"
      ]
     },
     "execution_count": 31,
     "metadata": {},
     "output_type": "execute_result"
    }
   ],
   "source": [
    "X = df_test.drop(columns=['Itching', 'delayed healing', 'class'])     #independent variable for testing\n",
    "x = df_train.drop(columns=['Itching', 'delayed healing', 'class'])    #independent variable for training/cross-validation\n",
    "x"
   ]
  },
  {
   "cell_type": "code",
   "execution_count": 32,
   "metadata": {},
   "outputs": [
    {
     "data": {
      "text/plain": [
       "array([1, 1, 0, 0, 0, 0, 1, 0, 0, 0, 0, 1, 1, 0, 1, 1, 1, 1, 0, 1, 0, 1,\n",
       "       1, 0, 1, 0, 0, 1, 0, 0, 0, 1, 1, 1, 0, 0, 0, 1, 1, 0, 0, 0, 0, 0,\n",
       "       1, 0, 0, 0, 1, 0, 1, 0, 1, 1, 1, 1, 1, 1, 0, 1, 0, 0, 1, 1, 1, 1,\n",
       "       1, 0, 0, 1, 1, 1, 1, 1, 0, 1, 1, 1, 0, 0, 1, 1, 1, 1, 1, 0, 1, 1,\n",
       "       1, 1, 0, 1, 1, 1, 1, 1, 1, 1, 1, 1, 1, 1, 0, 0, 1, 0, 1, 1, 0, 1,\n",
       "       0, 0, 1, 1, 1, 1, 1, 0, 0, 1, 1, 0, 1, 0, 1, 1, 1, 0, 1, 0, 1, 1,\n",
       "       0, 0, 1, 0, 1, 1, 0, 1, 0, 1, 0, 1, 1, 1, 1, 0, 0, 1, 1, 1, 0, 1,\n",
       "       1, 0, 1, 1, 0, 1, 1, 1, 1, 1, 0, 1, 1, 1, 1, 1, 0, 0, 1, 1, 1, 1,\n",
       "       1, 1, 1, 1, 1, 1, 0, 1, 1, 1, 1, 1, 1, 1, 1, 1, 1, 0, 0, 1, 1, 1,\n",
       "       1, 1, 1, 1, 0, 0, 1, 1, 1, 1, 1, 1, 0, 0, 1, 0, 0, 1, 1, 1, 1, 0,\n",
       "       0, 0, 1, 1, 1, 0, 1, 1, 1, 1, 0, 1, 1, 1, 1, 1, 0, 0, 1, 0, 1, 1,\n",
       "       0, 1, 0, 0, 0, 1, 1, 1, 1, 1, 1, 0, 1, 0, 1, 1, 1, 0, 0, 1, 0, 0,\n",
       "       0, 0, 1, 0, 0, 0, 0, 0, 1, 1, 0, 0, 0, 1, 0, 0, 0, 0, 1, 0, 0, 1,\n",
       "       0, 1, 1, 1, 1, 1, 0, 1, 1, 0, 1, 1, 0, 0, 1, 1, 0, 0, 0, 1, 1, 1,\n",
       "       1, 1, 1, 0, 1, 0, 1, 0, 1, 1, 1, 0, 1, 0, 1, 1, 1, 1, 1, 1, 0, 1,\n",
       "       0, 0, 0, 1, 1, 1, 1, 1, 1, 1, 1, 0, 0, 1, 1, 0, 1, 0, 0, 1, 1, 0,\n",
       "       0, 1, 1, 0, 1, 0, 0, 1, 1, 0, 0, 0, 0, 1, 0, 0, 0, 1, 0, 1, 1, 1,\n",
       "       0, 0, 1, 1, 1, 1, 1, 0, 0, 1, 0, 1, 0, 1, 1, 0, 1, 1, 0, 1, 0, 0,\n",
       "       1, 1, 1, 1, 0, 1, 0, 1, 0, 0, 1, 0, 1, 0, 1, 1, 0, 1, 0, 1],\n",
       "      dtype=int64)"
      ]
     },
     "execution_count": 32,
     "metadata": {},
     "output_type": "execute_result"
    }
   ],
   "source": [
    "Y = df_test['class'].values     #target variable for testing\n",
    "y = df_train['class'].values    #target variable for training/cross-validation\n",
    "y"
   ]
  },
  {
   "cell_type": "markdown",
   "metadata": {},
   "source": [
    "# Model Building"
   ]
  },
  {
   "cell_type": "code",
   "execution_count": 33,
   "metadata": {},
   "outputs": [],
   "source": [
    "# Root mean square error by juliencs from https://www.kaggle.com/juliencs/a-study-on-regression-applied-to-the-ames-dataset\n",
    "\n",
    "from sklearn.model_selection import cross_val_score, train_test_split\n",
    "from sklearn.metrics import mean_squared_error, make_scorer\n",
    "\n",
    "scorer = make_scorer(mean_squared_error, greater_is_better = False)\n",
    "def rmse_cv_train(model):\n",
    "    rmse= np.sqrt(-cross_val_score(model, X_train, y_train, scoring = scorer, cv = 10))\n",
    "    return(rmse)\n",
    "\n",
    "def rmse_cv_test(model):\n",
    "    rmse= np.sqrt(-cross_val_score(model, X_test, y_test, scoring = scorer, cv = 10))\n",
    "    return(rmse)"
   ]
  },
  {
   "cell_type": "markdown",
   "metadata": {},
   "source": [
    "<h3>Decision Tree"
   ]
  },
  {
   "cell_type": "code",
   "execution_count": 34,
   "metadata": {},
   "outputs": [],
   "source": [
    "from sklearn import tree"
   ]
  },
  {
   "cell_type": "code",
   "execution_count": 35,
   "metadata": {},
   "outputs": [],
   "source": [
    "X_train, X_test, y_train, y_test = train_test_split(x, y, test_size=0.20)"
   ]
  },
  {
   "cell_type": "code",
   "execution_count": 36,
   "metadata": {},
   "outputs": [
    {
     "data": {
      "text/plain": [
       "DecisionTreeClassifier()"
      ]
     },
     "execution_count": 36,
     "metadata": {},
     "output_type": "execute_result"
    }
   ],
   "source": [
    "tree_model = tree.DecisionTreeClassifier()\n",
    "tree_model.fit(X_train, y_train)"
   ]
  },
  {
   "cell_type": "code",
   "execution_count": 37,
   "metadata": {},
   "outputs": [
    {
     "data": {
      "text/plain": [
       "0.9642857142857143"
      ]
     },
     "execution_count": 37,
     "metadata": {},
     "output_type": "execute_result"
    }
   ],
   "source": [
    "tree_model.score(X_test, y_test)"
   ]
  },
  {
   "cell_type": "code",
   "execution_count": 38,
   "metadata": {},
   "outputs": [
    {
     "name": "stdout",
     "output_type": "stream",
     "text": [
      "Accuracy: 0.96 (+/- 0.02)\n",
      "RMSE on Training set : 0.19078694994190604\n"
     ]
    }
   ],
   "source": [
    "scores = cross_val_score(tree_model, x, y, cv=5)\n",
    "print(\"Accuracy: %0.2f (+/- %0.2f)\" % (scores.mean(), scores.std() * 2))\n",
    "print(\"RMSE on Training set :\", rmse_cv_train(tree_model).mean())"
   ]
  },
  {
   "cell_type": "markdown",
   "metadata": {},
   "source": [
    "<h3> Logistic Reg"
   ]
  },
  {
   "cell_type": "code",
   "execution_count": 39,
   "metadata": {},
   "outputs": [],
   "source": [
    "from sklearn.linear_model import LogisticRegression"
   ]
  },
  {
   "cell_type": "code",
   "execution_count": 40,
   "metadata": {},
   "outputs": [
    {
     "data": {
      "text/plain": [
       "LogisticRegression()"
      ]
     },
     "execution_count": 40,
     "metadata": {},
     "output_type": "execute_result"
    }
   ],
   "source": [
    "LR_model = LogisticRegression()\n",
    "LR_model.fit(X_train, y_train)"
   ]
  },
  {
   "cell_type": "code",
   "execution_count": 41,
   "metadata": {},
   "outputs": [
    {
     "data": {
      "text/plain": [
       "0.9642857142857143"
      ]
     },
     "execution_count": 41,
     "metadata": {},
     "output_type": "execute_result"
    }
   ],
   "source": [
    "LR_model.score(X_test, y_test)"
   ]
  },
  {
   "cell_type": "code",
   "execution_count": null,
   "metadata": {},
   "outputs": [],
   "source": [
    "scores = cross_val_score(LR_model, x, y, cv=5)\n",
    "print(\"Accuracy: %0.2f (+/- %0.2f)\" % (scores.mean(), scores.std() * 2))\n",
    "print(\"RMSE on Training set :\", rmse_cv_train(LR_model).mean())"
   ]
  },
  {
   "cell_type": "markdown",
   "metadata": {},
   "source": [
    "<h3>KNN"
   ]
  },
  {
   "cell_type": "code",
   "execution_count": 17,
   "metadata": {},
   "outputs": [],
   "source": [
    "from sklearn.neighbors import KNeighborsClassifier"
   ]
  },
  {
   "cell_type": "code",
   "execution_count": 18,
   "metadata": {},
   "outputs": [
    {
     "data": {
      "text/plain": [
       "KNeighborsClassifier()"
      ]
     },
     "execution_count": 18,
     "metadata": {},
     "output_type": "execute_result"
    }
   ],
   "source": [
    "KNN_model = KNeighborsClassifier()\n",
    "KNN_model.fit(X_train, y_train)"
   ]
  },
  {
   "cell_type": "code",
   "execution_count": 19,
   "metadata": {},
   "outputs": [
    {
     "data": {
      "text/plain": [
       "0.8928571428571429"
      ]
     },
     "execution_count": 19,
     "metadata": {},
     "output_type": "execute_result"
    }
   ],
   "source": [
    "KNN_model.score(X_test, y_test)"
   ]
  },
  {
   "cell_type": "code",
   "execution_count": 20,
   "metadata": {},
   "outputs": [
    {
     "name": "stdout",
     "output_type": "stream",
     "text": [
      "Accuracy: 0.87 (+/- 0.05)\n",
      "RMSE on Training set : 0.3594944577798732\n"
     ]
    }
   ],
   "source": [
    "scores = cross_val_score(KNN_model, x, y, cv=5)\n",
    "print(\"Accuracy: %0.2f (+/- %0.2f)\" % (scores.mean(), scores.std() * 2))\n",
    "print(\"RMSE on Training set :\", rmse_cv_train(KNN_model).mean())"
   ]
  },
  {
   "cell_type": "markdown",
   "metadata": {},
   "source": [
    "<h3>SVM"
   ]
  },
  {
   "cell_type": "code",
   "execution_count": 21,
   "metadata": {},
   "outputs": [],
   "source": [
    "from sklearn import svm"
   ]
  },
  {
   "cell_type": "code",
   "execution_count": 22,
   "metadata": {},
   "outputs": [
    {
     "data": {
      "text/plain": [
       "SVC(C=0.1, gamma=0.1, kernel='linear')"
      ]
     },
     "execution_count": 22,
     "metadata": {},
     "output_type": "execute_result"
    }
   ],
   "source": [
    "svm_model = svm.SVC(kernel='linear', C=0.1, gamma=0.1)\n",
    "svm_model.fit(X_train, y_train)"
   ]
  },
  {
   "cell_type": "code",
   "execution_count": 23,
   "metadata": {},
   "outputs": [
    {
     "data": {
      "text/plain": [
       "0.9166666666666666"
      ]
     },
     "execution_count": 23,
     "metadata": {},
     "output_type": "execute_result"
    }
   ],
   "source": [
    "svm_model.score(X_test, y_test)"
   ]
  },
  {
   "cell_type": "code",
   "execution_count": 24,
   "metadata": {},
   "outputs": [
    {
     "name": "stdout",
     "output_type": "stream",
     "text": [
      "Accuracy: 0.91 (+/- 0.05)\n",
      "RMSE on Training set : 0.2877108307793129\n"
     ]
    }
   ],
   "source": [
    "scores = cross_val_score(svm_model, x, y, cv=5)\n",
    "print(\"Accuracy: %0.2f (+/- %0.2f)\" % (scores.mean(), scores.std() * 2))\n",
    "print(\"RMSE on Training set :\", rmse_cv_train(svm_model).mean())"
   ]
  },
  {
   "cell_type": "markdown",
   "metadata": {},
   "source": [
    "<h1>Test"
   ]
  },
  {
   "cell_type": "code",
   "execution_count": 25,
   "metadata": {},
   "outputs": [],
   "source": [
    "from sklearn.metrics import jaccard_score\n",
    "from sklearn.metrics import f1_score\n",
    "from sklearn.metrics import log_loss\n",
    "\n",
    "# knn F1&jaccard score\n",
    "knn_yhat = KNN_model.predict(X)\n",
    "knn_f1 = round(f1_score(Y, knn_yhat, average='weighted'), 2)\n",
    "knn_jaccard = round(jaccard_score(Y, knn_yhat), 2)\n",
    "\n",
    "# Decision Tree F1&jaccard score\n",
    "DT_yhat = tree_model.predict(X)\n",
    "DT_f1 = round(f1_score(Y, DT_yhat, average='weighted'), 2)\n",
    "DT_jaccard = round(jaccard_score(Y, DT_yhat), 2)\n",
    "\n",
    "# Support Vector Machine Tree F1&jaccard score\n",
    "svm_yhat = svm_model.predict(X)\n",
    "svm_f1 = round(f1_score(Y, svm_yhat, average='weighted'), 2)\n",
    "svm_jaccard = round(jaccard_score(Y, svm_yhat), 2)\n",
    "\n",
    "# Logistic Regression F1&jaccard& logloss score\n",
    "LR_yhat = LR_model.predict(X)\n",
    "LR_prob = LR_model.predict_proba(X)\n",
    "LR_f1 = round(f1_score(Y, LR_yhat, average='weighted'), 2)\n",
    "LR_jaccard = round(jaccard_score(Y, LR_yhat), 2)\n",
    "\n",
    "# log loss\n",
    "loss = round(log_loss(Y, LR_prob), 2)"
   ]
  },
  {
   "cell_type": "code",
   "execution_count": 26,
   "metadata": {},
   "outputs": [
    {
     "data": {
      "text/html": [
       "<div>\n",
       "<style scoped>\n",
       "    .dataframe tbody tr th:only-of-type {\n",
       "        vertical-align: middle;\n",
       "    }\n",
       "\n",
       "    .dataframe tbody tr th {\n",
       "        vertical-align: top;\n",
       "    }\n",
       "\n",
       "    .dataframe thead th {\n",
       "        text-align: right;\n",
       "    }\n",
       "</style>\n",
       "<table border=\"1\" class=\"dataframe\">\n",
       "  <thead>\n",
       "    <tr style=\"text-align: right;\">\n",
       "      <th></th>\n",
       "      <th>Jaccard</th>\n",
       "      <th>F1-score</th>\n",
       "      <th>LogLoss</th>\n",
       "    </tr>\n",
       "    <tr>\n",
       "      <th>Algorithm</th>\n",
       "      <th></th>\n",
       "      <th></th>\n",
       "      <th></th>\n",
       "    </tr>\n",
       "  </thead>\n",
       "  <tbody>\n",
       "    <tr>\n",
       "      <th>KNN</th>\n",
       "      <td>0.73</td>\n",
       "      <td>0.81</td>\n",
       "      <td>NA</td>\n",
       "    </tr>\n",
       "    <tr>\n",
       "      <th>Decision Tree</th>\n",
       "      <td>0.9</td>\n",
       "      <td>0.93</td>\n",
       "      <td>NA</td>\n",
       "    </tr>\n",
       "    <tr>\n",
       "      <th>SVM</th>\n",
       "      <td>0.9</td>\n",
       "      <td>0.9</td>\n",
       "      <td>NA</td>\n",
       "    </tr>\n",
       "    <tr>\n",
       "      <th>LogisticRegression</th>\n",
       "      <td>0.83</td>\n",
       "      <td>0.89</td>\n",
       "      <td>0.29</td>\n",
       "    </tr>\n",
       "  </tbody>\n",
       "</table>\n",
       "</div>"
      ],
      "text/plain": [
       "                   Jaccard F1-score LogLoss\n",
       "Algorithm                                  \n",
       "KNN                   0.73     0.81      NA\n",
       "Decision Tree          0.9     0.93      NA\n",
       "SVM                    0.9      0.9      NA\n",
       "LogisticRegression    0.83     0.89    0.29"
      ]
     },
     "execution_count": 26,
     "metadata": {},
     "output_type": "execute_result"
    }
   ],
   "source": [
    "# display reports\n",
    "df_report = pd.DataFrame(np.array([['KNN', knn_jaccard, knn_f1,'NA'], \n",
    "                                   ['Decision Tree',DT_jaccard, DT_f1,'NA'], \n",
    "                                   ['SVM',svm_f1, svm_f1,'NA'],\n",
    "                                   [\"LogisticRegression\", LR_jaccard, LR_f1, loss]]),\n",
    "                           columns=['Algorithm', 'Jaccard', 'F1-score', \"LogLoss\"])\n",
    "df_report.set_index('Algorithm')"
   ]
  },
  {
   "cell_type": "code",
   "execution_count": null,
   "metadata": {},
   "outputs": [],
   "source": []
  }
 ],
 "metadata": {
  "kernelspec": {
   "display_name": "Python 3",
   "language": "python",
   "name": "python3"
  },
  "language_info": {
   "codemirror_mode": {
    "name": "ipython",
    "version": 3
   },
   "file_extension": ".py",
   "mimetype": "text/x-python",
   "name": "python",
   "nbconvert_exporter": "python",
   "pygments_lexer": "ipython3",
   "version": "3.8.3"
  }
 },
 "nbformat": 4,
 "nbformat_minor": 4
}
